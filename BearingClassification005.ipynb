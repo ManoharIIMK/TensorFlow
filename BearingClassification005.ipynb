{
 "cells": [
  {
   "cell_type": "code",
   "execution_count": 1,
   "metadata": {},
   "outputs": [],
   "source": [
    "# Classifying bearings with a Convolutional Neural Network using TensorFlow, CV2\n",
    "\n",
    "'''\n",
    "These are the steps need to follow while writing Tensorflow:\n",
    "\n",
    "Step 1) Import the data\n",
    "Step 2) Transform the data\n",
    "Step 3) Construct the tensor\n",
    "Step 4) Build the model\n",
    "Step 5) Train and evaluate the model\n",
    "Step 6) Improve the mode\n",
    "\n",
    "-install OpenCV for first time\n",
    "\n",
    "-Import all libraries as below\n",
    "\n",
    "-Imporn Numpy. If it is first time, we can pip install\n",
    "\n",
    "-Import os and matplotlib\n",
    "\n",
    "-progress bars to Python code is with tqdm. Install it and import.\n",
    "\n",
    "'''\n",
    "\n",
    "import tensorflow as tf\n",
    "import matplotlib.pyplot as plt\n",
    "from tqdm import tqdm\n",
    "import numpy as np\n",
    "import os \n",
    "from random import shuffle\n",
    "import cv2\n",
    "%matplotlib inline"
   ]
  },
  {
   "cell_type": "code",
   "execution_count": 2,
   "metadata": {},
   "outputs": [
    {
     "data": {
      "text/plain": [
       "'C:\\\\Users\\\\Eshwar'"
      ]
     },
     "execution_count": 2,
     "metadata": {},
     "output_type": "execute_result"
    }
   ],
   "source": [
    "cwd = os.getcwd()\n",
    "cwd\n",
    "os.chdir(\"E:/IIM/TensorFlow/warranty/Bearings/\")\n",
    "cwd"
   ]
  },
  {
   "cell_type": "code",
   "execution_count": 3,
   "metadata": {},
   "outputs": [
    {
     "data": {
      "text/plain": [
       "'C:\\\\Users\\\\Eshwar'"
      ]
     },
     "execution_count": 3,
     "metadata": {},
     "output_type": "execute_result"
    }
   ],
   "source": [
    "'''\n",
    "TensorFlow Fold makes it easy to implement deep-learning models that operate over data of varying size and structure\n",
    "\n",
    "Firsr, change the working directory where we have the images for input.\n",
    "\n",
    "1. create image folders for test and train.\n",
    "2. If not in the desired, change/set the working directory to that path as below where the image files exists.\n",
    "'''\n",
    "\n",
    "os.chdir(\"E:/IIM/TensorFlow/warranty/Bearings/\")\n",
    "cwd"
   ]
  },
  {
   "cell_type": "code",
   "execution_count": 4,
   "metadata": {},
   "outputs": [],
   "source": [
    "'''\n",
    "Set Path to test directory\n",
    "Set path to train directory\n",
    "'''\n",
    "\n",
    "TEST_DIR = \"E:/IIM/TensorFlow/warranty/Bearings/test\"\n",
    "TRAIN_DIR = \"E:/IIM/TensorFlow/warranty/Bearings/train\""
   ]
  },
  {
   "cell_type": "code",
   "execution_count": 5,
   "metadata": {},
   "outputs": [],
   "source": [
    "'''\n",
    "set image size to 50\n",
    "LR - Learning rate is a hyper-parameter that \n",
    "     controls how much we are adjusting the weights of our network with respect the loss gradient.\n",
    "     le-3 = 0.001 ( 1 x 10 ^ -3 )\n",
    "     \n",
    "      learning_rate =[0.1, 0.01, 0.001, 0.0001]\n",
    "'''\n",
    "\n",
    "IMG_SIZE = 50\n",
    "LR = 0.001\n"
   ]
  },
  {
   "cell_type": "code",
   "execution_count": 6,
   "metadata": {},
   "outputs": [],
   "source": [
    "'''\n",
    "just so we remember which saved model is which, sizes must match\n",
    "\n",
    "'''\n",
    "MODEL_NAME = 'BearingClass5-{}-{}.model'.format(LR, '2conv-basic')\n"
   ]
  },
  {
   "cell_type": "code",
   "execution_count": 7,
   "metadata": {},
   "outputs": [],
   "source": [
    "'''\n",
    "define the classification label to convert the lable into one-hot array as below\n",
    "'''\n",
    "\n",
    "def label_img(img):\n",
    "    word_label = img.split('.')[-3]\n",
    "    # conversion to one-hot array [gud,bad]\n",
    "    #                            [much gud, no bad]\n",
    "    if word_label == 'gud': return [1,0]\n",
    "    #                             [no gud, very bad]\n",
    "    elif word_label == 'bad': return [0,1]"
   ]
  },
  {
   "cell_type": "code",
   "execution_count": 8,
   "metadata": {},
   "outputs": [],
   "source": [
    "'''\n",
    "Create training data and save it in train_data.npy in the working directory.\n",
    "Convert the image as gray scale image\n",
    "This data can be used in the subsequent steps as needed\n",
    "\n",
    "'''\n",
    "\n",
    "def create_train_data():\n",
    "    training_data = []\n",
    "    for img in tqdm(os.listdir(TRAIN_DIR)):\n",
    "        label = label_img(img)\n",
    "        path = os.path.join(TRAIN_DIR,img)\n",
    "        img = cv2.imread(path,cv2.IMREAD_GRAYSCALE)\n",
    "        img = cv2.resize(img, (IMG_SIZE,IMG_SIZE))\n",
    "        training_data.append([np.array(img),np.array(label)])\n",
    "    shuffle(training_data)\n",
    "    np.save('train_data.npy', training_data)\n",
    "    return training_data"
   ]
  },
  {
   "cell_type": "code",
   "execution_count": 9,
   "metadata": {},
   "outputs": [],
   "source": [
    "'''\n",
    "Create test data and save it in train_data.npy in the working directory.\n",
    "Convert the image as gray scale image\n",
    "This data can be used in the subsequent steps as needed\n",
    "\n",
    "'''\n",
    "def process_test_data():\n",
    "    testing_data = []\n",
    "    for img in tqdm(os.listdir(TEST_DIR)):\n",
    "        path = os.path.join(TEST_DIR,img)\n",
    "        img_num = img.split('.')[0]\n",
    "        img = cv2.imread(path,cv2.IMREAD_GRAYSCALE)\n",
    "        img = cv2.resize(img, (IMG_SIZE,IMG_SIZE))\n",
    "        testing_data.append([np.array(img), img_num])\n",
    "        \n",
    "    shuffle(testing_data)\n",
    "    np.save('test_data.npy', testing_data)\n",
    "    return testing_data"
   ]
  },
  {
   "cell_type": "code",
   "execution_count": 10,
   "metadata": {},
   "outputs": [
    {
     "name": "stderr",
     "output_type": "stream",
     "text": [
      "100%|██████████| 478/478 [00:00<00:00, 637.54it/s]\n"
     ]
    }
   ],
   "source": [
    "train_data = create_train_data()\n",
    "# If we have already created the dataset:\n",
    "#train_data = np.load('train_data.npy')"
   ]
  },
  {
   "cell_type": "code",
   "execution_count": 11,
   "metadata": {},
   "outputs": [
    {
     "name": "stdout",
     "output_type": "stream",
     "text": [
      "curses is not supported on this machine (please install/reinstall curses for an optimal experience)\n"
     ]
    },
    {
     "name": "stderr",
     "output_type": "stream",
     "text": [
      "WARNING: Logging before flag parsing goes to stderr.\n",
      "W0801 23:30:39.898350 18028 deprecation_wrapper.py:119] From C:\\Users\\Eshwar\\Anaconda3\\lib\\site-packages\\tflearn\\helpers\\summarizer.py:9: The name tf.summary.merge is deprecated. Please use tf.compat.v1.summary.merge instead.\n",
      "\n",
      "W0801 23:30:39.901053 18028 deprecation_wrapper.py:119] From C:\\Users\\Eshwar\\Anaconda3\\lib\\site-packages\\tflearn\\helpers\\trainer.py:25: The name tf.summary.FileWriter is deprecated. Please use tf.compat.v1.summary.FileWriter instead.\n",
      "\n",
      "W0801 23:30:39.912842 18028 deprecation_wrapper.py:119] From C:\\Users\\Eshwar\\Anaconda3\\lib\\site-packages\\tflearn\\collections.py:13: The name tf.GraphKeys is deprecated. Please use tf.compat.v1.GraphKeys instead.\n",
      "\n",
      "W0801 23:30:39.917731 18028 deprecation_wrapper.py:119] From C:\\Users\\Eshwar\\Anaconda3\\lib\\site-packages\\tflearn\\config.py:123: The name tf.get_collection is deprecated. Please use tf.compat.v1.get_collection instead.\n",
      "\n",
      "W0801 23:30:39.929397 18028 deprecation_wrapper.py:119] From C:\\Users\\Eshwar\\Anaconda3\\lib\\site-packages\\tflearn\\config.py:129: The name tf.add_to_collection is deprecated. Please use tf.compat.v1.add_to_collection instead.\n",
      "\n",
      "W0801 23:30:39.930427 18028 deprecation_wrapper.py:119] From C:\\Users\\Eshwar\\Anaconda3\\lib\\site-packages\\tflearn\\config.py:131: The name tf.assign is deprecated. Please use tf.compat.v1.assign instead.\n",
      "\n"
     ]
    }
   ],
   "source": [
    "'''\n",
    "Next, we're ready to define our neural network:\n",
    "\n",
    "TFlearn is a modular and transparent deep learning library built on top of Tensorflow. \n",
    "It was designed to provide a higher-level API to TensorFlow in order to facilitate and speed-up experimentations, \n",
    "while remaining fully transparent and compatible with it.\n",
    "\n",
    "The most common type of convolution that is used is the 2D convolution layer, and is usually abbreviated as conv2D. \n",
    "A filter or a kernel in a conv2D layer has a height and a width.\n",
    "\n",
    "Max pooling layer for 2D inputs (e.g. images).\n",
    "\n",
    "Drop-Out is regularization techniques.\n",
    "\n",
    "fully_connected creates a variable called weights, representing a fully connected weight matrix, \n",
    "which is multiplied by the inputs to produce a Tensor of hidden units.\n",
    "\n",
    "'''\n",
    "\n",
    "import tflearn\n",
    "from tflearn.layers.conv import conv_2d, max_pool_2d\n",
    "from tflearn.layers.core import input_data, dropout, fully_connected\n",
    "from tflearn.layers.estimator import regression\n"
   ]
  },
  {
   "cell_type": "code",
   "execution_count": 12,
   "metadata": {},
   "outputs": [],
   "source": [
    "'''\n",
    "ImagePreprocessing - Decode and preprocess one image for evaluation or training\n",
    "ImageAugmentation - Create extra synthetic training data by flipping & rotating images\n",
    "\n",
    "'''\n",
    "\n",
    "from tflearn.data_preprocessing import ImagePreprocessing\n",
    "from tflearn.data_augmentation import ImageAugmentation"
   ]
  },
  {
   "cell_type": "code",
   "execution_count": 13,
   "metadata": {},
   "outputs": [],
   "source": [
    "# normalisation of images\n",
    "# The aim of pre-processing is an improvement of the image data that suppresses unwanted distortions or \n",
    "# enhances some image features important for further processing\n",
    "img_prep = ImagePreprocessing()\n",
    "\n",
    "img_prep.add_featurewise_zero_center()  \n",
    "# Zero center every sample with specified mean. If not specified, the mean is evaluated over all samples.\n",
    "\n",
    "img_prep.add_featurewise_stdnorm()\n",
    "#Scale each sample by the specified standard deviation. If no std specified, std is evaluated over all samples data.\n",
    "\n",
    "# Create extra synthetic training data by flipping & rotating images\n",
    "img_aug = ImageAugmentation()\n",
    "img_aug.add_random_flip_leftright()\n",
    "img_aug.add_random_rotation(max_angle=25.)\n",
    "img_aug.add_random_90degrees_rotation(rotations=[0, 1, 2, 3])\n",
    "img_aug.add_random_blur (sigma_max=5.0)"
   ]
  },
  {
   "cell_type": "code",
   "execution_count": 14,
   "metadata": {},
   "outputs": [
    {
     "name": "stderr",
     "output_type": "stream",
     "text": [
      "W0801 23:30:39.994268 18028 deprecation_wrapper.py:119] From C:\\Users\\Eshwar\\Anaconda3\\lib\\site-packages\\tflearn\\layers\\core.py:81: The name tf.placeholder is deprecated. Please use tf.compat.v1.placeholder instead.\n",
      "\n"
     ]
    }
   ],
   "source": [
    "#convnet = input_data(shape=[None, IMG_SIZE, IMG_SIZE, 1], name='input',data_preprocessing=img_prep, data_augmentation=img_aug)\n",
    "convnet = input_data(shape=[None, IMG_SIZE, IMG_SIZE, 1], name='input')"
   ]
  },
  {
   "cell_type": "code",
   "execution_count": 15,
   "metadata": {},
   "outputs": [
    {
     "name": "stdout",
     "output_type": "stream",
     "text": [
      "Current python version is:  3.7.3\n"
     ]
    }
   ],
   "source": [
    "'''\n",
    "Check Python version as below. This will give we the exact version of python running our script.\n",
    "Tensorflow runs when python version > 3.5\n",
    "Current verion - 3.7.3\n",
    "\n",
    "'''\n",
    "\n",
    "from platform import python_version\n",
    "print(\"Current python version is: \",(python_version()))"
   ]
  },
  {
   "cell_type": "code",
   "execution_count": 16,
   "metadata": {},
   "outputs": [],
   "source": [
    "\n",
    "import tensorflow as tf\n",
    "tf.reset_default_graph()"
   ]
  },
  {
   "cell_type": "code",
   "execution_count": 17,
   "metadata": {},
   "outputs": [
    {
     "name": "stderr",
     "output_type": "stream",
     "text": [
      "W0801 23:30:42.465062 18028 deprecation.py:506] From C:\\Users\\Eshwar\\Anaconda3\\lib\\site-packages\\tflearn\\initializations.py:119: calling UniformUnitScaling.__init__ (from tensorflow.python.ops.init_ops) with dtype is deprecated and will be removed in a future version.\n",
      "Instructions for updating:\n",
      "Call initializer instance with the dtype argument instead of passing it to the constructor\n",
      "W0801 23:30:42.466109 18028 deprecation.py:323] From C:\\Users\\Eshwar\\Anaconda3\\lib\\site-packages\\tensorflow\\python\\util\\deprecation.py:507: UniformUnitScaling.__init__ (from tensorflow.python.ops.init_ops) is deprecated and will be removed in a future version.\n",
      "Instructions for updating:\n",
      "Use tf.initializers.variance_scaling instead with distribution=uniform to get equivalent behavior.\n",
      "W0801 23:30:42.484386 18028 deprecation_wrapper.py:119] From C:\\Users\\Eshwar\\Anaconda3\\lib\\site-packages\\tflearn\\layers\\conv.py:552: The name tf.nn.max_pool is deprecated. Please use tf.nn.max_pool2d instead.\n",
      "\n",
      "W0801 23:30:42.573783 18028 deprecation.py:506] From C:\\Users\\Eshwar\\Anaconda3\\lib\\site-packages\\tflearn\\initializations.py:174: calling TruncatedNormal.__init__ (from tensorflow.python.ops.init_ops) with dtype is deprecated and will be removed in a future version.\n",
      "Instructions for updating:\n",
      "Call initializer instance with the dtype argument instead of passing it to the constructor\n",
      "W0801 23:30:42.613552 18028 deprecation.py:506] From C:\\Users\\Eshwar\\Anaconda3\\lib\\site-packages\\tflearn\\layers\\core.py:239: calling dropout (from tensorflow.python.ops.nn_ops) with keep_prob is deprecated and will be removed in a future version.\n",
      "Instructions for updating:\n",
      "Please use `rate` instead of `keep_prob`. Rate should be set to `rate = 1 - keep_prob`.\n",
      "W0801 23:30:42.667896 18028 deprecation_wrapper.py:119] From C:\\Users\\Eshwar\\Anaconda3\\lib\\site-packages\\tflearn\\optimizers.py:238: The name tf.train.AdamOptimizer is deprecated. Please use tf.compat.v1.train.AdamOptimizer instead.\n",
      "\n",
      "W0801 23:30:42.681326 18028 deprecation.py:506] From C:\\Users\\Eshwar\\Anaconda3\\lib\\site-packages\\tflearn\\objectives.py:66: calling reduce_sum_v1 (from tensorflow.python.ops.math_ops) with keep_dims is deprecated and will be removed in a future version.\n",
      "Instructions for updating:\n",
      "keep_dims is deprecated, use keepdims instead\n",
      "W0801 23:30:42.772302 18028 deprecation_wrapper.py:119] From C:\\Users\\Eshwar\\Anaconda3\\lib\\site-packages\\tflearn\\summaries.py:46: The name tf.summary.scalar is deprecated. Please use tf.compat.v1.summary.scalar instead.\n",
      "\n",
      "W0801 23:30:42.854399 18028 deprecation.py:323] From C:\\Users\\Eshwar\\Anaconda3\\lib\\site-packages\\tensorflow\\python\\ops\\math_grad.py:1250: add_dispatch_support.<locals>.wrapper (from tensorflow.python.ops.array_ops) is deprecated and will be removed in a future version.\n",
      "Instructions for updating:\n",
      "Use tf.where in 2.0, which has the same broadcast rule as np.where\n",
      "W0801 23:30:43.327374 18028 deprecation_wrapper.py:119] From C:\\Users\\Eshwar\\Anaconda3\\lib\\site-packages\\tflearn\\helpers\\trainer.py:134: The name tf.train.Saver is deprecated. Please use tf.compat.v1.train.Saver instead.\n",
      "\n"
     ]
    }
   ],
   "source": [
    "'''\n",
    "Convolutional neural networks (CNNs) are the current state-of-the-art model architecture for image classification tasks.\n",
    "CNNs apply a series of filters to the raw pixel data of an image to extract and learn higher-level features, which \n",
    "the model can then use for classification. CNNs contains three components:\n",
    "\n",
    "1.Convolutional layers, which apply a specified number of convolution filters to the image.\n",
    "2.Pooling layers, which downsample the image data extracted by the convolutional layers to reduce the dimensionality of the \n",
    "  feature map in order to decrease processing time.\n",
    "3.Dense (fully connected) layers, which perform classification on the features extracted by the convolutional layers and\n",
    "  downsampled by the pooling layers. In a dense layer, every node in the layer is connected to every node in the \n",
    "  preceding layer.\n",
    "\n",
    "Activation function: It is used to determine the output of neural network like yes or no. It maps the resulting values \n",
    "in between 0 to 1 or -1 to 1 etc.\n",
    "\n",
    "relu    - ReLU (Rectified Linear Unit) Activation Function. Any negative input given to the ReLU activation function \n",
    "          turns the value into zero\n",
    "softmax - The softmax function is a more generalized logistic activation function which is used for multiclass classification.\n",
    "\n",
    "convnet - A specific kind of such a deep neural network is the convolutional network, \n",
    "          which is commonly referred to as CNN or ConvNet\n",
    "          \n",
    "optimizer - adam = Adam is an optimization algorithm that can used instead of the classical stochastic gradient descent \n",
    "            procedure to update network weights iterative based in training data.\n",
    "\n",
    "loss - used to estimate the loss of the model so that the weights can be updated to reduce the loss on the next evaluation.\n",
    "\n",
    "binary_crossentropy - used for binary classification\n",
    "categorical_crossentropy - used for multiple classification.\n",
    "\n",
    "Dropout - is a technique where randomly selected neurons are ignored during training. They are “dropped-out” randomly.\n",
    "\n",
    "'''\n",
    "convnet = input_data(shape=[None, IMG_SIZE, IMG_SIZE, 1], name='input')\n",
    "\n",
    "convnet = conv_2d(convnet, 32, 5, activation='relu')\n",
    "convnet = max_pool_2d(convnet, 5)\n",
    "\n",
    "convnet = conv_2d(convnet, 64, 5, activation='relu')\n",
    "convnet = max_pool_2d(convnet, 5)\n",
    "\n",
    "convnet = conv_2d(convnet, 128, 5, activation='relu')\n",
    "convnet = max_pool_2d(convnet, 5)\n",
    "\n",
    "convnet = conv_2d(convnet, 64, 5, activation='relu')\n",
    "convnet = max_pool_2d(convnet, 5)\n",
    "\n",
    "convnet = conv_2d(convnet, 32, 5, activation='relu')\n",
    "convnet = max_pool_2d(convnet, 5)\n",
    "\n",
    "convnet = fully_connected(convnet, 1024, activation='relu')\n",
    "convnet = dropout(convnet, 0.8)\n",
    "\n",
    "convnet = fully_connected(convnet, 2, activation='softmax')\n",
    "convnet = regression(convnet, optimizer='adam', learning_rate=LR, loss='categorical_crossentropy', name='targets')\n",
    "\n",
    "model = tflearn.DNN(convnet, tensorboard_dir='log')"
   ]
  },
  {
   "cell_type": "code",
   "execution_count": 18,
   "metadata": {},
   "outputs": [],
   "source": [
    "#model = tflearn.DNN(convnet, tensorboard_dir='log')\n",
    "# What we have here is a nice, 2 layered convolutional neural network, with a fully connected layer, \n",
    "# and then the output layer. It's been debated whether or not a fully connected layer is of any use.  "
   ]
  },
  {
   "cell_type": "code",
   "execution_count": 19,
   "metadata": {},
   "outputs": [],
   "source": [
    "# This exact convnet was good enough for recognizing hand 28x28 written digits. \n",
    "# Let's see how it does with goodd and bad/damaged bearings at 50x50 resolution."
   ]
  },
  {
   "cell_type": "code",
   "execution_count": 20,
   "metadata": {},
   "outputs": [],
   "source": [
    "# Now, it wont always be the case that we're training the network fresh every time. \n",
    "# Maybe first we just want to see how 3 epochs trains, but then, after 3, maybe we're done, \n",
    "# or maybe we want to see about 5 epochs. We want to be saving our model after every session, and reloading it\n",
    "# if we have a saved version:"
   ]
  },
  {
   "cell_type": "code",
   "execution_count": 21,
   "metadata": {},
   "outputs": [],
   "source": [
    "if os.path.exists('{}.meta'.format(MODEL_NAME)):\n",
    "    model.load(MODEL_NAME)\n",
    "    print('model loaded!')"
   ]
  },
  {
   "cell_type": "code",
   "execution_count": 22,
   "metadata": {},
   "outputs": [],
   "source": [
    "#Now, let's split out training and testing data:\n",
    "\n",
    "train = train_data[:-100]\n",
    "test = train_data[-100:]"
   ]
  },
  {
   "cell_type": "markdown",
   "metadata": {},
   "source": [
    "Now, the training data and testing data are both labeled datasets. The training data is what we'll fit the neural network with, and the test data is what we're going to use to validate the results. The test data will be \"out of sample,\" meaning the testing data will only be used to test the accuracy of the network, not to train it.\n",
    "\n",
    "We also have \"test\" images that we downloaded. THOSE images are not labeled at all, and those are what we'll submit to Kaggle for the competition.\n",
    "\n",
    "Next, we're going to create our data arrays. For some reason, typical numpy logic like:\n",
    "\n",
    "array[:,0] and array[:,1] did NOT work for me here. Not sure what I'm doing wrong, so I do this instead to separate my features and labels:"
   ]
  },
  {
   "cell_type": "code",
   "execution_count": 23,
   "metadata": {},
   "outputs": [],
   "source": [
    "X = np.array([i[0] for i in train]).reshape(-1,IMG_SIZE,IMG_SIZE,1)\n",
    "Y = [i[1] for i in train]"
   ]
  },
  {
   "cell_type": "code",
   "execution_count": 24,
   "metadata": {},
   "outputs": [],
   "source": [
    "test_x = np.array([i[0] for i in test]).reshape(-1,IMG_SIZE,IMG_SIZE,1)\n",
    "test_y = [i[1] for i in test]"
   ]
  },
  {
   "cell_type": "code",
   "execution_count": 28,
   "metadata": {},
   "outputs": [
    {
     "name": "stdout",
     "output_type": "stream",
     "text": [
      "Training Step: 659  | total loss: 0.15157 | time: 0.521s\n",
      "| Adam | epoch: 110 | loss: 0.15157 - acc: 0.9698 -- iter: 320/378\n",
      "Training Step: 660  | total loss: 0.13747 | time: 1.650s\n",
      "| Adam | epoch: 110 | loss: 0.13747 - acc: 0.9728 | val_loss: 0.19839 - val_acc: 0.9500 -- iter: 378/378\n",
      "--\n"
     ]
    }
   ],
   "source": [
    "# Now we fit for 50 epochs:\n",
    "\n",
    "model.fit({'input': X}, {'targets': Y}, n_epoch=5, validation_set=({'input': test_x}, {'targets': test_y}), \n",
    "    snapshot_step=600, show_metric=True, run_id=MODEL_NAME)"
   ]
  },
  {
   "cell_type": "markdown",
   "metadata": {},
   "source": [
    "### accuracy computed on the validation set - 95%\n",
    "\n",
    "### Accuracy of a batch of training data    - 97% "
   ]
  },
  {
   "cell_type": "code",
   "execution_count": 30,
   "metadata": {},
   "outputs": [
    {
     "name": "stderr",
     "output_type": "stream",
     "text": [
      "100%|██████████| 28/28 [00:00<00:00, 1063.58it/s]\n"
     ]
    },
    {
     "name": "stdout",
     "output_type": "stream",
     "text": [
      "num: 0\n",
      "data: [array([[ 75,  81,  84, ...,  94,  95,  96],\n",
      "       [ 77,  80,  84, ...,  95,  93,  95],\n",
      "       [ 77,  80,  86, ...,  94,  95,  97],\n",
      "       ...,\n",
      "       [ 89,  90,  99, ..., 110, 116, 148],\n",
      "       [ 90,  89,  95, ..., 107, 116, 154],\n",
      "       [ 85,  89,  92, ..., 107, 114, 153]], dtype=uint8), '11']\n",
      "num: 1\n",
      "data: [array([[156, 165, 169, ..., 151, 151, 145],\n",
      "       [178, 184, 183, ..., 150, 150, 145],\n",
      "       [196, 193, 187, ..., 152, 150, 148],\n",
      "       ...,\n",
      "       [214, 211, 208, ..., 139, 128, 121],\n",
      "       [215, 207, 205, ..., 139, 131, 121],\n",
      "       [214, 210, 203, ..., 136, 130, 122]], dtype=uint8), '5']\n",
      "num: 2\n",
      "data: [array([[174, 177, 175, ..., 199, 206, 217],\n",
      "       [174, 177, 174, ..., 196, 195, 210],\n",
      "       [176, 177, 174, ..., 191, 194, 204],\n",
      "       ...,\n",
      "       [235, 232, 226, ..., 229, 246, 243],\n",
      "       [233, 234, 230, ..., 225, 236, 235],\n",
      "       [232, 239, 230, ..., 234, 236, 238]], dtype=uint8), '4']\n",
      "num: 3\n",
      "data: [array([[218, 191, 225, ..., 202, 224, 193],\n",
      "       [228, 214, 226, ..., 218, 238, 244],\n",
      "       [239, 235, 236, ..., 213, 231, 248],\n",
      "       ...,\n",
      "       [ 72, 104, 105, ..., 123, 108, 100],\n",
      "       [ 61, 106, 111, ..., 139, 119, 101],\n",
      "       [ 44, 102, 111, ..., 149, 129, 101]], dtype=uint8), '13']\n",
      "num: 4\n",
      "data: [array([[65, 62, 72, ..., 39, 31, 44],\n",
      "       [64, 63, 70, ..., 39, 34, 40],\n",
      "       [66, 70, 68, ..., 43, 39, 51],\n",
      "       ...,\n",
      "       [43, 49, 49, ..., 31, 36, 30],\n",
      "       [50, 51, 46, ..., 31, 33, 30],\n",
      "       [51, 51, 48, ..., 31, 33, 30]], dtype=uint8), '17']\n"
     ]
    },
    {
     "data": {
      "image/png": "[encoded data removed]",
      "text/plain": [
       "<Figure size 432x288 with 5 Axes>"
      ]
     },
     "metadata": {
      "needs_background": "light"
     },
     "output_type": "display_data"
    }
   ],
   "source": [
    "import matplotlib.pyplot as plt\n",
    "\n",
    "# if we need to create the data:\n",
    "test_data = process_test_data()\n",
    "# if we already have some saved: Yes, saved in below fplder\n",
    "#test_data = np.load('C:/User/Eshwar/test_data.npy')\n",
    "\n",
    "fig=plt.figure()\n",
    "\n",
    "for num,data in enumerate(test_data[:5]):\n",
    "    # gud: [1,0]\n",
    "    # bad: [0,1]\n",
    "    print('num:', num)\n",
    "    print('data:', data)\n",
    "    img_num = data[1]\n",
    "    img_data = data[0]\n",
    "    \n",
    "    y = fig.add_subplot(1,5,num+1)\n",
    "    orig = img_data\n",
    "    data = img_data.reshape(IMG_SIZE,IMG_SIZE,1)\n",
    "    #model_out = model.predict([data])[0]\n",
    "    model_out = model.predict([data])[0]\n",
    "    \n",
    "    if np.argmax(model_out) == 1: str_label='bad'\n",
    "    else: str_label='good'\n",
    "        \n",
    "    y.imshow(orig,cmap='gray')\n",
    "    plt.title(str_label)\n",
    "    y.axes.get_xaxis().set_visible(False)\n",
    "    y.axes.get_yaxis().set_visible(False)\n",
    "plt.show()"
   ]
  },
  {
   "cell_type": "code",
   "execution_count": 31,
   "metadata": {},
   "outputs": [
    {
     "name": "stderr",
     "output_type": "stream",
     "text": [
      "100%|██████████| 28/28 [00:00<00:00, 525.73it/s]\n"
     ]
    }
   ],
   "source": [
    "with open('BearingClassifier005.csv','w') as f:\n",
    "    f.write('Image ID,Label\\n')\n",
    "            \n",
    "with open('BearingClassifier005.csv','a') as f:\n",
    "    for data in tqdm(test_data):\n",
    "        img_num = data[1]\n",
    "        img_data = data[0]\n",
    "        orig = img_data\n",
    "        data = img_data.reshape(IMG_SIZE,IMG_SIZE,1)\n",
    "        model_out = model.predict([data])[0]\n",
    "        if np.argmax(model_out) == 1: str_label='bad surface'\n",
    "        else: str_label='good bearing'\n",
    "        f.write('{},{}\\n'.format(img_num,str_label,model_out[1]))"
   ]
  },
  {
   "cell_type": "code",
   "execution_count": 32,
   "metadata": {},
   "outputs": [
    {
     "name": "stderr",
     "output_type": "stream",
     "text": [
      "100%|██████████| 28/28 [00:00<00:00, 432.84it/s]\n"
     ]
    }
   ],
   "source": [
    "with open('BearingClassifier005.csv','w') as f:\n",
    "    f.write('Image ID,Model Output\\n')\n",
    "            \n",
    "with open('BearingClassifier005.csv','a') as f:\n",
    "    for data in tqdm(test_data):\n",
    "        img_num = data[1]\n",
    "        img_data = data[0]\n",
    "        str_label = data[0]\n",
    "        orig = img_data\n",
    "        data = img_data.reshape(IMG_SIZE,IMG_SIZE,1)\n",
    "        model_out = model.predict([data])[0]\n",
    "        f.write('{},{}\\n'.format(img_num,model_out[1]))"
   ]
  },
  {
   "cell_type": "code",
   "execution_count": 33,
   "metadata": {},
   "outputs": [],
   "source": [
    "#100%|██████████| 8/8 [00:00<00:00, 306.44it/s]"
   ]
  },
  {
   "cell_type": "code",
   "execution_count": 34,
   "metadata": {},
   "outputs": [
    {
     "data": {
      "text/plain": [
       "'E:\\\\IIM\\\\TensorFlow\\\\warranty\\\\Bearings'"
      ]
     },
     "execution_count": 34,
     "metadata": {},
     "output_type": "execute_result"
    }
   ],
   "source": [
    "import os\n",
    "cwd = os.getcwd()\n",
    "cwd"
   ]
  }
 ],
 "metadata": {
  "kernelspec": {
   "display_name": "Python 3",
   "language": "python",
   "name": "python3"
  },
  "language_info": {
   "codemirror_mode": {
    "name": "ipython",
    "version": 3
   },
   "file_extension": ".py",
   "mimetype": "text/x-python",
   "name": "python",
   "nbconvert_exporter": "python",
   "pygments_lexer": "ipython3",
   "version": "3.7.3"
  }
 },
 "nbformat": 4,
 "nbformat_minor": 2
}
