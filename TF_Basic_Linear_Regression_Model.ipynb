{
 "cells": [
  {
   "cell_type": "code",
   "execution_count": 2,
   "metadata": {},
   "outputs": [
    {
     "name": "stdout",
     "output_type": "stream",
     "text": [
      "w: [-0.9999977]\n",
      "b: [0.9999931]\n",
      "loss: 3.18785e-11\n"
     ]
    }
   ],
   "source": [
    "import tensorflow as tf\n",
    "\n",
    "# Model parameters\n",
    "W = tf.Variable([0.3],dtype = tf.float32, name='var_W')\n",
    "b = tf.Variable([0.1],dtype = tf.float32, name='var_b')\n",
    "\n",
    "# Model input and ouput\n",
    "x = tf.placeholder(tf.float32)\n",
    "linear_model = W*x + b\n",
    "\n",
    "y = tf.placeholder(tf.float32)\n",
    "\n",
    "# define your loss function\n",
    "loss = tf.reduce_sum(tf.square(linear_model - y))\n",
    "\n",
    "# Define an optimizer which will try to optimize the algorithm\n",
    "optimizer = tf.train.GradientDescentoptimizer(0.01)\n",
    "\n",
    "train = optimizer.minimize(loss)\n",
    "\n",
    "# train  data\n",
    "\n",
    "x_train = [1,2,3,4]\n",
    "y_train = [0,-1,-2,-3]\n",
    "\n",
    "\n",
    "init = tf.global_variables_initializer()\n",
    "\n",
    "with tf.Session() as sess:\n",
    "    sess.run(init)\n",
    "    for i in range(1000):\n",
    "      sess.run(train, {x:x_train, y:y_train})\n",
    "\n",
    "      # Now evaluate the training accuracy\n",
    "      curr_W, curr_b, curr_loss = sess.run([W,b,loss],{x:x_train, y:y_train})\n",
    "\n",
    "    print(\"w:\",curr_W)\n",
    "    print(\"b:\",curr_b)\n",
    "    print(\"loss:\",curr_loss)"
   ]
  },
  {
   "cell_type": "markdown",
   "metadata": {},
   "source": [
    "Output:\n",
    "    \n",
    "w: [-0.9999977]\n",
    "b: [0.9999931]\n",
    "loss: 3.18785e-11"
   ]
  },
  {
   "cell_type": "code",
   "execution_count": null,
   "metadata": {},
   "outputs": [],
   "source": []
  }
 ],
 "metadata": {
  "kernelspec": {
   "display_name": "Python 3",
   "language": "python",
   "name": "python3"
  },
  "language_info": {
   "codemirror_mode": {
    "name": "ipython",
    "version": 3
   },
   "file_extension": ".py",
   "mimetype": "text/x-python",
   "name": "python",
   "nbconvert_exporter": "python",
   "pygments_lexer": "ipython3",
   "version": "3.7.3"
  }
 },
 "nbformat": 4,
 "nbformat_minor": 2
}
