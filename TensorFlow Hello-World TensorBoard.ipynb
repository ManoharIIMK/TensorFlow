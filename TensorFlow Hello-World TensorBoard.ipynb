{
 "cells": [
  {
   "cell_type": "code",
   "execution_count": 18,
   "metadata": {},
   "outputs": [
    {
     "name": "stdout",
     "output_type": "stream",
     "text": [
      "b'Hello, TensorFlow World!'\n"
     ]
    }
   ],
   "source": [
    "# TEnsorflow Beginner - Hello World\n",
    "\n",
    "import tensorflow as tf\n",
    "hello = tf.constant('Hello, TensorFlow World!')\n",
    "sess = tf.Session()\n",
    "print(sess.run(hello))\n",
    "\n"
   ]
  },
  {
   "cell_type": "code",
   "execution_count": 8,
   "metadata": {},
   "outputs": [
    {
     "name": "stdout",
     "output_type": "stream",
     "text": [
      "Tensor(\"addn_1:0\", shape=(), dtype=int32)\n",
      "Tensor(\"constant_a_1:0\", shape=(), dtype=int32)\n",
      "Tensor(\"mul_1:0\", shape=(), dtype=int32)\n"
     ]
    }
   ],
   "source": [
    "#Module 2\n",
    "\n",
    "#Computation of     (a * b + c/d) using TensorFlow and Tensor Board\n",
    "\n",
    "import tensorflow as tf\n",
    "a = tf.constant(6, name='constant_a')\n",
    "b = tf.constant(3, name='constant_b')\n",
    "\n",
    "c = tf.constant(10, name='constant_c')\n",
    "d = tf.constant(5, name='constant_d')\n",
    "\n",
    "mul = tf.multiply(a, b, name=\"mul\")\n",
    "div = tf.div(c, d, name=\"div\")\n",
    "\n",
    "addn = tf.add_n([mul, div], name=\"addn\")\n",
    "\n",
    "print (addn)\n",
    "print (a)\n",
    "print (mul)\n",
    "\n",
    "sess = tf.Session()\n",
    "sess.run(addn)\n",
    "\n",
    "sess.run(mul)\n",
    "\n",
    "sess.run(div)\n",
    "\n",
    "writer = tf.summary.FileWriter('./m1_example1', sess.graph)\n",
    "writer.close()\n",
    "\n",
    "sess.close()"
   ]
  },
  {
   "cell_type": "code",
   "execution_count": 12,
   "metadata": {},
   "outputs": [
    {
     "name": "stdout",
     "output_type": "stream",
     "text": [
      "Tensor(\"Const_12:0\", shape=(), dtype=int32)\n",
      "Tensor(\"Const_13:0\", shape=(3,), dtype=string)\n",
      "Tensor(\"Const_14:0\", shape=(2, 2), dtype=float32)\n",
      "Tensor(\"Const_15:0\", shape=(2, 2, 2), dtype=int32)\n"
     ]
    }
   ],
   "source": [
    "# Multi Dimentional Tesors - 1D, 2D abd 3D\n",
    "import tensorflow as tf\n",
    "\n",
    "sess = tf.Session()\n",
    "\n",
    "zeroD = tf.constant(5)\n",
    "sess.run(tf.rank(zeroD))\n",
    "\n",
    "oneD = tf.constant([\"How\", \"are\", \"you?\"])\n",
    "sess.run(tf.rank(oneD))\n",
    "\n",
    "twoD = tf.constant([[1.0, 2.3], [1.5, 2.9]])\n",
    "sess.run(tf.rank(twoD))\n",
    "\n",
    "threeD = tf.constant([[[1, 2], [3, 4]], [[1, 2], [3, 4]]])\n",
    "sess.run(tf.rank(threeD))\n",
    "print(zeroD)\n",
    "print(oneD)\n",
    "print(twoD)\n",
    "print(threeD)\n",
    "sess.close()\n"
   ]
  },
  {
   "cell_type": "code",
   "execution_count": 13,
   "metadata": {},
   "outputs": [],
   "source": [
    "# output of above:\n",
    "#Tensor(\"Const_8:0\", shape=(), dtype=int32)\n",
    "#Tensor(\"Const_13:0\", shape=(3,), dtype=string)\n",
    "#Tensor(\"Const_14:0\", shape=(2, 2), dtype=float32)\n",
    "#Tensor(\"Const_15:0\", shape=(2, 2, 2), dtype=int32)"
   ]
  },
  {
   "cell_type": "code",
   "execution_count": 17,
   "metadata": {},
   "outputs": [
    {
     "name": "stdout",
     "output_type": "stream",
     "text": [
      "Tensor(\"Shape_10:0\", shape=(1,), dtype=int32)\n",
      "[5.6 6.3 8.9 9. ]\n",
      "Tensor(\"Shape_11:0\", shape=(1,), dtype=int32)\n"
     ]
    }
   ],
   "source": [
    "import tensorflow as tf\n",
    "import numpy as np\n",
    "\n",
    "sess = tf.Session()\n",
    "\n",
    "zeroD = np.array(30, dtype=np.int32)\n",
    "sess.run(tf.rank(zeroD) sess.run(tf.shape(zeroD))\n",
    "\n",
    "\n",
    "oneD = np.array([5.6, 6.3, 8.9, 9.0], dtype=np.float32)\n",
    "sess.run(tf.rank(oneD))\n",
    "sess.run(tf.shape(oneD))\n",
    "\n",
    "print(tf.shape(oneD))\n",
    "print(oneD)\n",
    "\n",
    "sess.close()"
   ]
  },
  {
   "cell_type": "code",
   "execution_count": 19,
   "metadata": {},
   "outputs": [
    {
     "ename": "SyntaxError",
     "evalue": "invalid syntax (<ipython-input-19-b71bde685401>, line 2)",
     "output_type": "error",
     "traceback": [
      "\u001b[1;36m  File \u001b[1;32m\"<ipython-input-19-b71bde685401>\"\u001b[1;36m, line \u001b[1;32m2\u001b[0m\n\u001b[1;33m    [5.6 6.3 8.9 9. ]\u001b[0m\n\u001b[1;37m           ^\u001b[0m\n\u001b[1;31mSyntaxError\u001b[0m\u001b[1;31m:\u001b[0m invalid syntax\n"
     ]
    }
   ],
   "source": [
    "#Tensor(\"Shape_4:0\", shape=(1,), dtype=int32)\n",
    "#[5.6 6.3 8.9 9. ]"
   ]
  },
  {
   "cell_type": "code",
   "execution_count": 33,
   "metadata": {},
   "outputs": [],
   "source": [
    "#Interactive Sessions\n",
    "\n",
    "with tf.Session() as sess:\n",
    "\n",
    "    #can be eliminated\n",
    "    #These work well when you have a REPL environment and you're quickly prototyping stuff\n",
    "   \n",
    "    import tensorflow as tf\n",
    "\n",
    "    sess = tf.InteractiveSession()\n",
    "\n",
    "    A = tf.constant([4], tf.int32, name='A')\n",
    "    x = tf.placeholder(tf.int32, name='x')\n",
    "\n",
    "    y = A * x\n",
    "\n",
    "    y.eval(feed_dict={x: [5]})\n",
    "    \n",
    "    sess.close()"
   ]
  },
  {
   "cell_type": "code",
   "execution_count": null,
   "metadata": {},
   "outputs": [],
   "source": []
  }
 ],
 "metadata": {
  "kernelspec": {
   "display_name": "Python 3",
   "language": "python",
   "name": "python3"
  },
  "language_info": {
   "codemirror_mode": {
    "name": "ipython",
    "version": 3
   },
   "file_extension": ".py",
   "mimetype": "text/x-python",
   "name": "python",
   "nbconvert_exporter": "python",
   "pygments_lexer": "ipython3",
   "version": "3.7.3"
  }
 },
 "nbformat": 4,
 "nbformat_minor": 2
}
