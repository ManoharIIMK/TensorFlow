{
 "cells": [
  {
   "cell_type": "code",
   "execution_count": 1,
   "metadata": {},
   "outputs": [
    {
     "name": "stdout",
     "output_type": "stream",
     "text": [
      "[ 53 704]\n",
      "[  125 16807]\n",
      "[ 8 12]\n"
     ]
    }
   ],
   "source": [
    "# tensorboard --logdir C:/Users/Eshwar/graphs    - run this command in Anaconda prompt and open the Anaconda\n",
    "# Above command to set the working directory of Graphs to show in the TensorBoard\n",
    "# Open tensorboard on http://Localhost:6006/\n",
    "\n",
    "# import the Tensorflow library!\n",
    "import tensorflow as tf\n",
    "# tensorboard --logdir=data/ --port=8080  \n",
    "#tensorboard --logdir logs/1 - use this command on Anaconda prompt to see Tensor URL\n",
    "# http://localhost:6006 - need to use this url for local tensors\n",
    "g1 = tf.Graph()\n",
    "# Create a default in-process session.\n",
    "with g1.as_default():\n",
    "    with tf.Session() as sess:\n",
    "        A = tf.constant([5, 7], tf.int32, name='A')\n",
    "        x = tf.placeholder(tf.int32, name='x')\n",
    "        b = tf.constant([3, 4], tf.int32, name=\"b\")\n",
    "        y = (A * x) + b\n",
    "        print (sess.run(y, feed_dict={x: [10, 100]}))\n",
    "        assert y.graph is g1\n",
    "\n",
    "g2 = tf.Graph()\n",
    "with g2.as_default():\n",
    "\twith tf.Session() as sess:\n",
    "\t\t# y = A^x\n",
    "\t\tA = tf.constant([5, 7], tf.int32, name='A')\n",
    "\n",
    "\t\tx = tf.placeholder(tf.int32, name='x')\n",
    "\n",
    "\t\ty = tf.pow(A, x, name=\"y\")\n",
    "\n",
    "\t\tprint (sess.run(y, feed_dict={x: [3, 5]}))\n",
    "\n",
    "\t\tassert y.graph is g2\n",
    "\n",
    "default_graph = tf.get_default_graph()\n",
    "with tf.Session() as sess:\n",
    "\t# y = A + x\n",
    "\tA = tf.constant([5, 7], tf.int32, name='A')\n",
    "\n",
    "\tx = tf.placeholder(tf.int32, name='x')\n",
    "\n",
    "\ty = A + x\n",
    "\tprint (sess.run(y, feed_dict={x: [3, 5]}))\n",
    "\n",
    "\tassert y.graph is default_graph"
   ]
  },
  {
   "cell_type": "code",
   "execution_count": null,
   "metadata": {},
   "outputs": [],
   "source": []
  }
 ],
 "metadata": {
  "kernelspec": {
   "display_name": "Python 3",
   "language": "python",
   "name": "python3"
  },
  "language_info": {
   "codemirror_mode": {
    "name": "ipython",
    "version": 3
   },
   "file_extension": ".py",
   "mimetype": "text/x-python",
   "name": "python",
   "nbconvert_exporter": "python",
   "pygments_lexer": "ipython3",
   "version": "3.7.3"
  }
 },
 "nbformat": 4,
 "nbformat_minor": 2
}
