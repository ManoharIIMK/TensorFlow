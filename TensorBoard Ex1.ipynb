{
 "cells": [
  {
   "cell_type": "code",
   "execution_count": 1,
   "metadata": {},
   "outputs": [
    {
     "name": "stdout",
     "output_type": "stream",
     "text": [
      "C:\\Users\\Eshwar\n",
      "[1356]\n"
     ]
    }
   ],
   "source": [
    "# Note: To run Tensorboard, open Anaconda prompt always and run below commands. Dont close Anaconda prompt till end\n",
    "\n",
    "# tensorboard --logdir C:/Users/Eshwar/graphs \n",
    "# Above command to set the working directory of Graphs to show in the TensorBoard\n",
    "\n",
    "# Run above commandin Anaconda Prompt\n",
    "\n",
    "# See tensor board in http://localhost:6006/\n",
    "\n",
    "import tensorflow as tf\n",
    "\n",
    "import os\n",
    "print(os.getcwd())\n",
    "\n",
    "A = tf.constant([4], tf.int32, name='A')\n",
    "B = tf.constant([5], tf.int32, name='B')\n",
    "C = tf.constant([6], tf.int32, name='C')\n",
    "\n",
    "x = tf.placeholder(tf.int32, name='x')\n",
    "\n",
    "# y = Ax^2 + Bx + C\n",
    "with tf.name_scope(\"Equation_1\"):\n",
    "\tAx2 = tf.multiply(A, tf.pow(x, 2), name=\"Ax2\")\n",
    "\tBx = tf.multiply(B, x, name=\"Bx\")\n",
    "\ty1 = tf.add_n([Ax2, Bx, C], name=\"calc_1\")\n",
    "\n",
    "# y = Ax^2 + Bx^2\n",
    "with tf.name_scope(\"Equation_2\"):\n",
    "\tAx2 = tf.multiply(A, tf.pow(x, 2), name=\"Ax2\")\n",
    "\tBx2 = tf.multiply(B, tf.pow(x, 2), name=\"Bx2\")\n",
    "\ty2 = tf.add_n([Ax2, Bx2], name=\"calc_1\")\n",
    "\n",
    "with tf.name_scope(\"Final_Sum\"):\n",
    "\ty = y1 + y2\n",
    "\n",
    "with tf.Session() as sess:\n",
    "\tprint (sess.run(y, feed_dict={x: [10]}))\n",
    "\n",
    "\twriter = tf.summary.FileWriter('./graphs/e3_namescope', sess.graph)\n",
    "\twriter.close()\n"
   ]
  },
  {
   "cell_type": "code",
   "execution_count": 2,
   "metadata": {},
   "outputs": [
    {
     "name": "stdout",
     "output_type": "stream",
     "text": [
      "5\n"
     ]
    }
   ],
   "source": [
    "import tensorflow as tf\n",
    "# create graph\n",
    "a = tf.constant(2)\n",
    "b = tf.constant(3)\n",
    "c = tf.add(a, b)\n",
    "# launch the graph in a session\n",
    "with tf.Session() as sess:\n",
    "    print(sess.run(c))"
   ]
  },
  {
   "cell_type": "code",
   "execution_count": null,
   "metadata": {},
   "outputs": [],
   "source": []
  }
 ],
 "metadata": {
  "kernelspec": {
   "display_name": "Python 3",
   "language": "python",
   "name": "python3"
  },
  "language_info": {
   "codemirror_mode": {
    "name": "ipython",
    "version": 3
   },
   "file_extension": ".py",
   "mimetype": "text/x-python",
   "name": "python",
   "nbconvert_exporter": "python",
   "pygments_lexer": "ipython3",
   "version": "3.7.3"
  }
 },
 "nbformat": 4,
 "nbformat_minor": 2
}
