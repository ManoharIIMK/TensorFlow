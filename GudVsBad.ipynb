{
 "cells": [
  {
   "cell_type": "code",
   "execution_count": 755,
   "metadata": {},
   "outputs": [],
   "source": [
    "# Classifying Cats vs Dogs with a Convolutional Neural Network on Kaggle3\n",
    "\n",
    "# Below model from: https://pythonprogramming.net/convolutional-neural-network-kats-vs-dogs-machine-learning-tutorial/\n",
    "# Import all libraries as below\n",
    "# install OpenCV for first time\n",
    "\n",
    "# Full run through of raw images to classification with Convolutional Neural Network : Dogs Vs Cats\n",
    "# Package Requirements\n",
    "#numpy (pip install numpy) tqdm (pip install tqdm)\n",
    "#I will be using the GPU version of TensorFlow along with tflearn.\n",
    "\n",
    "#To install the CPU version of TensorFlow, just do pip install tensorflow To install the GPU version of TensorFlow, \n",
    "# you need to get all the dependencies and such.\n",
    "\n",
    "import tensorflow as tf\n",
    "import matplotlib.pyplot as plt\n",
    "from tqdm import tqdm\n",
    "import numpy as np\n",
    "import os \n",
    "from random import shuffle\n",
    "import cv2\n",
    "%matplotlib inline"
   ]
  },
  {
   "cell_type": "code",
   "execution_count": 756,
   "metadata": {},
   "outputs": [
    {
     "data": {
      "text/plain": [
       "'E:\\\\IIM\\\\TensorFlow\\\\warranty\\\\Bearings'"
      ]
     },
     "execution_count": 756,
     "metadata": {},
     "output_type": "execute_result"
    }
   ],
   "source": [
    "import os\n",
    "cwd = os.getcwd()\n",
    "cwd"
   ]
  },
  {
   "cell_type": "code",
   "execution_count": 757,
   "metadata": {},
   "outputs": [],
   "source": [
    "# Copy test and train datasets from Kaggle into the local PC and provide the pat of Test and Train Directories as below\n",
    "\n",
    "#Once you have downloaded and extracted the data from https://www.kaggle.com/c/dogs-vs-cats-redux-kernels-edition/data, \n",
    "# you're ready to begin.\n",
    "\n",
    "# We've got the data, but we can't exactly just stuff raw images right through our convolutional neural network. \n",
    "# First, we need all of the images to be the same size, and then we also will probably want to just grayscale them. \n",
    "# Also, the labels of \"gud\" and \"bad\" are not useful, we want them to be one-hot arrays.\n",
    "\n",
    "# TensorFlow Fold makes it easy to implement deep-learning models that operate over data of varying size and structure.\"\n",
    "\n",
    "# Fascinating...but, for now, we'll do it the old fashioned way.\n",
    "\n",
    "#TEST_DIR = \"E:/IIM/TensorFlow/test\"\n",
    "#TRAIN_DIR = \"E:/IIM/TensorFlow/train\"\n",
    "\n",
    "import os\n",
    "os.chdir('E:/IIM/TensorFlow/warranty/Bearings')\n",
    "\n",
    "TEST_DIR = \"E:/IIM/TensorFlow/warranty/Bearings/test\"\n",
    "TRAIN_DIR = \"E:/IIM/TensorFlow/warranty/Bearings/train\""
   ]
  },
  {
   "cell_type": "code",
   "execution_count": 758,
   "metadata": {},
   "outputs": [],
   "source": [
    "IMG_SIZE = 50\n",
    "LR = 1e-3\n",
    "\n",
    "MODEL_NAME = 'gudVSbad9-{}-{}.model'.format(LR, '2conv-basic')\n",
    "# just so we remember which saved model is which, sizes must match"
   ]
  },
  {
   "cell_type": "code",
   "execution_count": 759,
   "metadata": {},
   "outputs": [],
   "source": [
    "def label_img(img):\n",
    "    word_label = img.split('.')[-3]\n",
    "    # conversion to one-hot array [gud,bad]\n",
    "    #                            [much gud, no bad]\n",
    "    if word_label == 'gud': return [1,0]\n",
    "    #                             [no gud, very bad]\n",
    "    elif word_label == 'bad': return [0,1]"
   ]
  },
  {
   "cell_type": "code",
   "execution_count": 760,
   "metadata": {},
   "outputs": [],
   "source": [
    "def create_train_data():\n",
    "    training_data = []\n",
    "    for img in tqdm(os.listdir(TRAIN_DIR)):\n",
    "        label = label_img(img)\n",
    "        path = os.path.join(TRAIN_DIR,img)\n",
    "        img = cv2.imread(path,cv2.IMREAD_GRAYSCALE)\n",
    "        img = cv2.resize(img, (IMG_SIZE,IMG_SIZE))\n",
    "        training_data.append([np.array(img),np.array(label)])\n",
    "    shuffle(training_data)\n",
    "    np.save('train_data.npy', training_data)\n",
    "    return training_data"
   ]
  },
  {
   "cell_type": "code",
   "execution_count": 761,
   "metadata": {},
   "outputs": [],
   "source": [
    "def process_test_data():\n",
    "    testing_data = []\n",
    "    for img in tqdm(os.listdir(TEST_DIR)):\n",
    "        path = os.path.join(TEST_DIR,img)\n",
    "        img_num = img.split('.')[0]\n",
    "        img = cv2.imread(path,cv2.IMREAD_GRAYSCALE)\n",
    "        img = cv2.resize(img, (IMG_SIZE,IMG_SIZE))\n",
    "        testing_data.append([np.array(img), img_num])\n",
    "        \n",
    "    shuffle(testing_data)\n",
    "    np.save('test_data.npy', testing_data)\n",
    "    return testing_data"
   ]
  },
  {
   "cell_type": "code",
   "execution_count": 762,
   "metadata": {},
   "outputs": [
    {
     "name": "stderr",
     "output_type": "stream",
     "text": [
      "100%|██████████| 21/21 [00:00<00:00, 64.89it/s]\n"
     ]
    }
   ],
   "source": [
    "train_data = create_train_data()\n",
    "# If you have already created the dataset:\n",
    "#train_data = np.load('train_data.npy')"
   ]
  },
  {
   "cell_type": "code",
   "execution_count": 763,
   "metadata": {},
   "outputs": [],
   "source": [
    "#Next, we're ready to define our neural network:\n",
    "import tflearn\n",
    "from tflearn.layers.conv import conv_2d, max_pool_2d\n",
    "from tflearn.layers.core import input_data, dropout, fully_connected\n",
    "from tflearn.layers.estimator import regression\n"
   ]
  },
  {
   "cell_type": "code",
   "execution_count": 764,
   "metadata": {},
   "outputs": [],
   "source": [
    "from tflearn.data_preprocessing import ImagePreprocessing\n",
    "from tflearn.data_augmentation import ImageAugmentation"
   ]
  },
  {
   "cell_type": "code",
   "execution_count": 765,
   "metadata": {},
   "outputs": [],
   "source": [
    "# normalisation of images\n",
    "img_prep = ImagePreprocessing()\n",
    "img_prep.add_featurewise_zero_center()\n",
    "img_prep.add_featurewise_stdnorm()\n",
    "\n",
    "# Create extra synthetic training data by flipping & rotating images\n",
    "img_aug = ImageAugmentation()\n",
    "img_aug.add_random_flip_leftright()\n",
    "img_aug.add_random_rotation(max_angle=25.)"
   ]
  },
  {
   "cell_type": "code",
   "execution_count": 766,
   "metadata": {},
   "outputs": [],
   "source": [
    "#convnet = input_data(shape=[None, IMG_SIZE, IMG_SIZE, 1], name='input',data_preprocessing=img_prep, data_augmentation=img_aug)\n",
    "convnet = input_data(shape=[None, IMG_SIZE, IMG_SIZE, 1], name='input')"
   ]
  },
  {
   "cell_type": "code",
   "execution_count": 767,
   "metadata": {},
   "outputs": [],
   "source": [
    "import tensorflow as tf\n",
    "tf.reset_default_graph()"
   ]
  },
  {
   "cell_type": "code",
   "execution_count": 768,
   "metadata": {},
   "outputs": [],
   "source": [
    "\n",
    "convnet = input_data(shape=[None, IMG_SIZE, IMG_SIZE, 1], name='input')\n",
    "\n",
    "convnet = conv_2d(convnet, 32, 5, activation='relu')\n",
    "convnet = max_pool_2d(convnet, 5)\n",
    "\n",
    "convnet = conv_2d(convnet, 64, 5, activation='relu')\n",
    "convnet = max_pool_2d(convnet, 5)\n",
    "\n",
    "convnet = fully_connected(convnet, 1024, activation='relu')\n",
    "convnet = dropout(convnet, 0.8)\n",
    "\n",
    "convnet = fully_connected(convnet, 2, activation='softmax')\n",
    "convnet = regression(convnet, optimizer='adam', learning_rate=LR, loss='categorical_crossentropy', name='targets')\n",
    "\n",
    "model = tflearn.DNN(convnet, tensorboard_dir='log')"
   ]
  },
  {
   "cell_type": "code",
   "execution_count": 769,
   "metadata": {},
   "outputs": [],
   "source": [
    "#model = tflearn.DNN(convnet, tensorboard_dir='log')\n",
    "#What we have here is a nice, 2 layered convolutional neural network, with a fully connected layer, \n",
    "# and then the output layer. It's been debated whether or not a fully connected layer is of any use. \n",
    "# I'll leave it in anyway. "
   ]
  },
  {
   "cell_type": "code",
   "execution_count": 770,
   "metadata": {},
   "outputs": [],
   "source": [
    "#This exact convnet was good enough for recognizing hand 28x28 written digits. \n",
    "# Let's see how it does with gud and bad bearings at 50x50 resolution."
   ]
  },
  {
   "cell_type": "code",
   "execution_count": 771,
   "metadata": {},
   "outputs": [],
   "source": [
    "# Now, it wont always be the case that you're training the network fresh every time. \n",
    "# Maybe first you just want to see how 3 epochs trains, but then, after 3, maybe you're done, \n",
    "# or maybe you want to see about 5 epochs. We want to be saving our model after every session, and reloading it\n",
    "# if we have a saved version, so I will add this:"
   ]
  },
  {
   "cell_type": "code",
   "execution_count": 772,
   "metadata": {},
   "outputs": [],
   "source": [
    "if os.path.exists('{}.meta'.format(MODEL_NAME)):\n",
    "    model.load(MODEL_NAME)\n",
    "    print('model loaded!')"
   ]
  },
  {
   "cell_type": "code",
   "execution_count": 773,
   "metadata": {},
   "outputs": [],
   "source": [
    "#Now, let's split out training and testing data:\n",
    "\n",
    "train = train_data[:-1]\n",
    "test = train_data[-5:]"
   ]
  },
  {
   "cell_type": "markdown",
   "metadata": {},
   "source": [
    "Now, the training data and testing data are both labeled datasets. The training data is what we'll fit the neural network with, and the test data is what we're going to use to validate the results. The test data will be \"out of sample,\" meaning the testing data will only be used to test the accuracy of the network, not to train it.\n",
    "\n",
    "We also have \"test\" images that we downloaded. THOSE images are not labeled at all, and those are what we'll submit to Kaggle for the competition.\n",
    "\n",
    "Next, we're going to create our data arrays. For some reason, typical numpy logic like:\n",
    "\n",
    "array[:,0] and array[:,1] did NOT work for me here. Not sure what I'm doing wrong, so I do this instead to separate my features and labels:"
   ]
  },
  {
   "cell_type": "code",
   "execution_count": 774,
   "metadata": {},
   "outputs": [],
   "source": [
    "X = np.array([i[0] for i in train]).reshape(-1,IMG_SIZE,IMG_SIZE,1)\n",
    "Y = [i[1] for i in train]"
   ]
  },
  {
   "cell_type": "code",
   "execution_count": 775,
   "metadata": {},
   "outputs": [],
   "source": [
    "test_x = np.array([i[0] for i in test]).reshape(-1,IMG_SIZE,IMG_SIZE,1)\n",
    "test_y = [i[1] for i in test]"
   ]
  },
  {
   "cell_type": "code",
   "execution_count": 776,
   "metadata": {},
   "outputs": [
    {
     "name": "stdout",
     "output_type": "stream",
     "text": [
      "---------------------------------\n",
      "Run id: gudVSbad9-0.001-2conv-basic.model\n",
      "Log directory: log/\n",
      "INFO:tensorflow:Summary name Accuracy/ (raw) is illegal; using Accuracy/__raw_ instead.\n",
      "---------------------------------\n",
      "Training samples: 20\n",
      "Validation samples: 5\n",
      "--\n",
      "Training Step: 1  | time: 1.377s\n",
      "| Adam | epoch: 001 | loss: 0.00000 - acc: 0.0000 | val_loss: 0.00000 - val_acc: 1.0000 -- iter: 20/20\n",
      "--\n",
      "Training Step: 2  | total loss: 6.33635 | time: 1.050s\n",
      "| Adam | epoch: 002 | loss: 6.33635 - acc: 0.4050 | val_loss: 0.00000 - val_acc: 1.0000 -- iter: 20/20\n",
      "--\n",
      "Training Step: 3  | total loss: 9.62976 | time: 1.055s\n",
      "| Adam | epoch: 003 | loss: 9.62976 - acc: 0.5236 | val_loss: 0.00000 - val_acc: 1.0000 -- iter: 20/20\n",
      "--\n",
      "Training Step: 4  | total loss: 10.17867 | time: 1.063s\n",
      "| Adam | epoch: 004 | loss: 10.17867 - acc: 0.5434 | val_loss: 0.00000 - val_acc: 1.0000 -- iter: 20/20\n",
      "--\n",
      "Training Step: 5  | total loss: 10.30534 | time: 1.096s\n",
      "| Adam | epoch: 005 | loss: 10.30534 - acc: 0.5480 | val_loss: 0.00000 - val_acc: 1.0000 -- iter: 20/20\n",
      "--\n",
      "Training Step: 6  | total loss: 10.34153 | time: 1.057s\n",
      "| Adam | epoch: 006 | loss: 10.34153 - acc: 0.5493 | val_loss: 0.00000 - val_acc: 1.0000 -- iter: 20/20\n",
      "--\n",
      "Training Step: 7  | total loss: 10.35359 | time: 1.064s\n",
      "| Adam | epoch: 007 | loss: 10.35359 - acc: 0.5497 | val_loss: 0.00000 - val_acc: 1.0000 -- iter: 20/20\n",
      "--\n",
      "Training Step: 8  | total loss: 10.35811 | time: 1.050s\n",
      "| Adam | epoch: 008 | loss: 10.35811 - acc: 0.5499 | val_loss: 0.00000 - val_acc: 1.0000 -- iter: 20/20\n",
      "--\n",
      "Training Step: 9  | total loss: 10.35998 | time: 1.069s\n",
      "| Adam | epoch: 009 | loss: 10.35998 - acc: 0.5499 | val_loss: 0.00000 - val_acc: 1.0000 -- iter: 20/20\n",
      "--\n",
      "Training Step: 10  | total loss: 10.36081 | time: 1.047s\n",
      "| Adam | epoch: 010 | loss: 10.36081 - acc: 0.5500 | val_loss: 0.00000 - val_acc: 1.0000 -- iter: 20/20\n",
      "--\n",
      "Training Step: 11  | total loss: 10.36120 | time: 1.063s\n",
      "| Adam | epoch: 011 | loss: 10.36120 - acc: 0.5500 | val_loss: 0.00000 - val_acc: 1.0000 -- iter: 20/20\n",
      "--\n",
      "Training Step: 12  | total loss: 10.36139 | time: 1.044s\n",
      "| Adam | epoch: 012 | loss: 10.36139 - acc: 0.5500 | val_loss: 0.00000 - val_acc: 1.0000 -- iter: 20/20\n",
      "--\n",
      "Training Step: 13  | total loss: 10.36150 | time: 1.052s\n",
      "| Adam | epoch: 013 | loss: 10.36150 - acc: 0.5500 | val_loss: 0.00000 - val_acc: 1.0000 -- iter: 20/20\n",
      "--\n",
      "Training Step: 14  | total loss: 10.36155 | time: 1.051s\n",
      "| Adam | epoch: 014 | loss: 10.36155 - acc: 0.5500 | val_loss: 0.00000 - val_acc: 1.0000 -- iter: 20/20\n",
      "--\n",
      "Training Step: 15  | total loss: 10.36158 | time: 1.047s\n",
      "| Adam | epoch: 015 | loss: 10.36158 - acc: 0.5500 | val_loss: 0.00000 - val_acc: 1.0000 -- iter: 20/20\n",
      "--\n",
      "Training Step: 16  | total loss: 10.36160 | time: 1.045s\n",
      "| Adam | epoch: 016 | loss: 10.36160 - acc: 0.5500 | val_loss: 0.00000 - val_acc: 1.0000 -- iter: 20/20\n",
      "--\n",
      "Training Step: 17  | total loss: 10.36161 | time: 1.052s\n",
      "| Adam | epoch: 017 | loss: 10.36161 - acc: 0.5500 | val_loss: 0.00000 - val_acc: 1.0000 -- iter: 20/20\n",
      "--\n",
      "Training Step: 18  | total loss: 10.36162 | time: 1.046s\n",
      "| Adam | epoch: 018 | loss: 10.36162 - acc: 0.5500 | val_loss: 0.00000 - val_acc: 1.0000 -- iter: 20/20\n",
      "--\n",
      "Training Step: 19  | total loss: 10.36162 | time: 1.062s\n",
      "| Adam | epoch: 019 | loss: 10.36162 - acc: 0.5500 | val_loss: 0.00000 - val_acc: 1.0000 -- iter: 20/20\n",
      "--\n",
      "Training Step: 20  | total loss: 10.36163 | time: 1.046s\n",
      "| Adam | epoch: 020 | loss: 10.36163 - acc: 0.5500 | val_loss: 0.00000 - val_acc: 1.0000 -- iter: 20/20\n",
      "--\n",
      "Training Step: 21  | total loss: 10.36163 | time: 1.046s\n",
      "| Adam | epoch: 021 | loss: 10.36163 - acc: 0.5500 | val_loss: 0.00000 - val_acc: 1.0000 -- iter: 20/20\n",
      "--\n",
      "Training Step: 22  | total loss: 10.36163 | time: 1.049s\n",
      "| Adam | epoch: 022 | loss: 10.36163 - acc: 0.5500 | val_loss: 0.00000 - val_acc: 1.0000 -- iter: 20/20\n",
      "--\n",
      "Training Step: 23  | total loss: 10.36163 | time: 1.048s\n",
      "| Adam | epoch: 023 | loss: 10.36163 - acc: 0.5500 | val_loss: 0.00000 - val_acc: 1.0000 -- iter: 20/20\n",
      "--\n",
      "Training Step: 24  | total loss: 10.36163 | time: 1.052s\n",
      "| Adam | epoch: 024 | loss: 10.36163 - acc: 0.5500 | val_loss: 0.00000 - val_acc: 1.0000 -- iter: 20/20\n",
      "--\n",
      "Training Step: 25  | total loss: 10.36163 | time: 1.066s\n",
      "| Adam | epoch: 025 | loss: 10.36163 - acc: 0.5500 | val_loss: 0.00000 - val_acc: 1.0000 -- iter: 20/20\n",
      "--\n",
      "Training Step: 26  | total loss: 10.36163 | time: 1.048s\n",
      "| Adam | epoch: 026 | loss: 10.36163 - acc: 0.5500 | val_loss: 0.00000 - val_acc: 1.0000 -- iter: 20/20\n",
      "--\n",
      "Training Step: 27  | total loss: 10.36163 | time: 1.045s\n",
      "| Adam | epoch: 027 | loss: 10.36163 - acc: 0.5500 | val_loss: 0.00000 - val_acc: 1.0000 -- iter: 20/20\n",
      "--\n",
      "Training Step: 28  | total loss: 10.36163 | time: 1.061s\n",
      "| Adam | epoch: 028 | loss: 10.36163 - acc: 0.5500 | val_loss: 0.00000 - val_acc: 1.0000 -- iter: 20/20\n",
      "--\n",
      "Training Step: 29  | total loss: 10.36163 | time: 1.068s\n",
      "| Adam | epoch: 029 | loss: 10.36163 - acc: 0.5500 | val_loss: 0.00000 - val_acc: 1.0000 -- iter: 20/20\n",
      "--\n",
      "Training Step: 30  | total loss: 10.36163 | time: 1.064s\n",
      "| Adam | epoch: 030 | loss: 10.36163 - acc: 0.5500 | val_loss: 0.00000 - val_acc: 1.0000 -- iter: 20/20\n",
      "--\n",
      "Training Step: 31  | total loss: 10.36163 | time: 1.051s\n",
      "| Adam | epoch: 031 | loss: 10.36163 - acc: 0.5500 | val_loss: 0.00000 - val_acc: 1.0000 -- iter: 20/20\n",
      "--\n",
      "Training Step: 32  | total loss: 10.36163 | time: 1.049s\n",
      "| Adam | epoch: 032 | loss: 10.36163 - acc: 0.5500 | val_loss: 0.00000 - val_acc: 1.0000 -- iter: 20/20\n",
      "--\n",
      "Training Step: 33  | total loss: 10.36163 | time: 1.066s\n",
      "| Adam | epoch: 033 | loss: 10.36163 - acc: 0.5500 | val_loss: 0.00000 - val_acc: 1.0000 -- iter: 20/20\n",
      "--\n",
      "Training Step: 34  | total loss: 10.36163 | time: 1.064s\n",
      "| Adam | epoch: 034 | loss: 10.36163 - acc: 0.5500 | val_loss: 0.00000 - val_acc: 1.0000 -- iter: 20/20\n",
      "--\n",
      "Training Step: 35  | total loss: 10.36163 | time: 1.063s\n",
      "| Adam | epoch: 035 | loss: 10.36163 - acc: 0.5500 | val_loss: 0.00000 - val_acc: 1.0000 -- iter: 20/20\n",
      "--\n",
      "Training Step: 36  | total loss: 10.36163 | time: 1.073s\n",
      "| Adam | epoch: 036 | loss: 10.36163 - acc: 0.5500 | val_loss: 0.00000 - val_acc: 1.0000 -- iter: 20/20\n",
      "--\n",
      "Training Step: 37  | total loss: 10.36163 | time: 1.058s\n",
      "| Adam | epoch: 037 | loss: 10.36163 - acc: 0.5500 | val_loss: 0.00000 - val_acc: 1.0000 -- iter: 20/20\n",
      "--\n",
      "Training Step: 38  | total loss: 10.36163 | time: 1.063s\n",
      "| Adam | epoch: 038 | loss: 10.36163 - acc: 0.5500 | val_loss: 0.00000 - val_acc: 1.0000 -- iter: 20/20\n",
      "--\n",
      "Training Step: 39  | total loss: 10.36163 | time: 1.060s\n",
      "| Adam | epoch: 039 | loss: 10.36163 - acc: 0.5500 | val_loss: 0.00000 - val_acc: 1.0000 -- iter: 20/20\n",
      "--\n",
      "Training Step: 40  | total loss: 10.36163 | time: 1.069s\n",
      "| Adam | epoch: 040 | loss: 10.36163 - acc: 0.5500 | val_loss: 0.00000 - val_acc: 1.0000 -- iter: 20/20\n",
      "--\n"
     ]
    }
   ],
   "source": [
    "# Now we fit for 3 epochs:\n",
    "\n",
    "model.fit({'input': X}, {'targets': Y}, n_epoch=40, validation_set=({'input': test_x}, {'targets': test_y}), \n",
    "    snapshot_step=500, show_metric=True, run_id=MODEL_NAME)"
   ]
  },
  {
   "cell_type": "code",
   "execution_count": 777,
   "metadata": {},
   "outputs": [],
   "source": [
    "#Training Step: 1148  | total loss: 11.40617 | time: 59.952s\n",
    "#| Adam | epoch: 003 | loss: 11.40617 - acc: 0.5046 -- iter: 24448/24500\n",
    "#Training Step: 1149  | total loss: 11.12902 | time: 61.102s\n",
    "#| Adam | epoch: 003 | loss: 11.12902 - acc: 0.5167 | val_loss: 11.60503 - val_acc: 0.4960 -- iter: 24500/24500\n",
    "#--"
   ]
  },
  {
   "cell_type": "code",
   "execution_count": 778,
   "metadata": {},
   "outputs": [],
   "source": [
    "# It doesn't look like we've gotten anywhere at all.\n",
    "\n",
    "#We could keep trying, but, if you haven't made accuracy progress in the first 3 epochs, you're probably not going to at all, \n",
    "#unless it's due to overfitment...at least in my experience.\n",
    "\n",
    "#So... now what?\n",
    "#  Size Matters¶\n",
    "#We're gonna need a bigger network\n",
    "\n",
    "#First, we need to reset the graph instance, since we're doing this in a continuous environment:"
   ]
  },
  {
   "cell_type": "code",
   "execution_count": 779,
   "metadata": {},
   "outputs": [],
   "source": [
    "import tensorflow as tf\n",
    "tf.reset_default_graph()\n",
    "convnet = input_data(shape=[None, IMG_SIZE, IMG_SIZE, 1], name='input')\n",
    "\n",
    "convnet = conv_2d(convnet, 32, 5, activation='relu')\n",
    "convnet = max_pool_2d(convnet, 5)\n",
    "\n",
    "convnet = conv_2d(convnet, 64, 5, activation='relu')\n",
    "convnet = max_pool_2d(convnet, 5)\n",
    "\n",
    "convnet = conv_2d(convnet, 128, 5, activation='relu')\n",
    "convnet = max_pool_2d(convnet, 5)\n",
    "\n",
    "convnet = conv_2d(convnet, 64, 5, activation='relu')\n",
    "convnet = max_pool_2d(convnet, 5)\n",
    "\n",
    "convnet = conv_2d(convnet, 32, 5, activation='relu')\n",
    "convnet = max_pool_2d(convnet, 5)\n",
    "\n",
    "convnet = fully_connected(convnet, 1024, activation='relu')\n",
    "convnet = dropout(convnet, 0.8)\n",
    "\n",
    "convnet = fully_connected(convnet, 2, activation='softmax')\n",
    "convnet = regression(convnet, optimizer='adam', learning_rate=LR, loss='categorical_crossentropy', name='targets')\n",
    "\n",
    "model = tflearn.DNN(convnet, tensorboard_dir='log')\n"
   ]
  },
  {
   "cell_type": "code",
   "execution_count": 780,
   "metadata": {},
   "outputs": [],
   "source": [
    "if os.path.exists('{}.meta'.format(MODEL_NAME)):\n",
    "    model.load(MODEL_NAME)\n",
    "    print('model loaded!')\n",
    "\n",
    "train = train_data[:-1]\n",
    "test = train_data[-5:]"
   ]
  },
  {
   "cell_type": "code",
   "execution_count": 781,
   "metadata": {},
   "outputs": [],
   "source": [
    "X = np.array([i[0] for i in train]).reshape(-1,IMG_SIZE,IMG_SIZE,1)\n",
    "Y = [i[1] for i in train]\n",
    "\n",
    "test_x = np.array([i[0] for i in test]).reshape(-1,IMG_SIZE,IMG_SIZE,1)\n",
    "test_y = [i[1] for i in test]"
   ]
  },
  {
   "cell_type": "code",
   "execution_count": 782,
   "metadata": {},
   "outputs": [
    {
     "name": "stdout",
     "output_type": "stream",
     "text": [
      "---------------------------------\n",
      "Run id: gudVSbad9-0.001-2conv-basic.model\n",
      "Log directory: log/\n",
      "INFO:tensorflow:Summary name Accuracy/ (raw) is illegal; using Accuracy/__raw_ instead.\n",
      "---------------------------------\n",
      "Training samples: 20\n",
      "Validation samples: 5\n",
      "--\n",
      "Training Step: 1  | time: 1.465s\n",
      "| Adam | epoch: 001 | loss: 0.00000 - acc: 0.0000 | val_loss: 0.46331 - val_acc: 1.0000 -- iter: 20/20\n",
      "--\n",
      "Training Step: 2  | total loss: 0.62300 | time: 1.065s\n",
      "| Adam | epoch: 002 | loss: 0.62300 - acc: 0.5850 | val_loss: 0.58425 - val_acc: 1.0000 -- iter: 20/20\n",
      "--\n",
      "Training Step: 3  | total loss: 0.68257 | time: 1.063s\n",
      "| Adam | epoch: 003 | loss: 0.68257 - acc: 0.5564 | val_loss: 0.66209 - val_acc: 1.0000 -- iter: 20/20\n",
      "--\n",
      "Training Step: 4  | total loss: 0.68572 | time: 1.056s\n",
      "| Adam | epoch: 004 | loss: 0.68572 - acc: 0.5516 | val_loss: 0.63420 - val_acc: 1.0000 -- iter: 20/20\n",
      "--\n",
      "Training Step: 5  | total loss: 0.68476 | time: 1.055s\n",
      "| Adam | epoch: 005 | loss: 0.68476 - acc: 0.5851 | val_loss: 0.53560 - val_acc: 1.0000 -- iter: 20/20\n",
      "--\n",
      "Training Step: 6  | total loss: 0.68990 | time: 1.053s\n",
      "| Adam | epoch: 006 | loss: 0.68990 - acc: 0.5625 | val_loss: 0.46177 - val_acc: 1.0000 -- iter: 20/20\n",
      "--\n",
      "Training Step: 7  | total loss: 0.68144 | time: 1.052s\n",
      "| Adam | epoch: 007 | loss: 0.68144 - acc: 0.5550 | val_loss: 0.54171 - val_acc: 1.0000 -- iter: 20/20\n",
      "--\n",
      "Training Step: 8  | total loss: 0.69227 | time: 1.064s\n",
      "| Adam | epoch: 008 | loss: 0.69227 - acc: 0.5522 | val_loss: 0.57469 - val_acc: 1.0000 -- iter: 20/20\n",
      "--\n",
      "Training Step: 9  | total loss: 0.67502 | time: 1.069s\n",
      "| Adam | epoch: 009 | loss: 0.67502 - acc: 0.5510 | val_loss: 0.50260 - val_acc: 1.0000 -- iter: 20/20\n",
      "--\n",
      "Training Step: 10  | total loss: 0.67008 | time: 1.049s\n",
      "| Adam | epoch: 010 | loss: 0.67008 - acc: 0.5505 | val_loss: 0.58638 - val_acc: 1.0000 -- iter: 20/20\n",
      "--\n",
      "Training Step: 11  | total loss: 0.69446 | time: 1.054s\n",
      "| Adam | epoch: 011 | loss: 0.69446 - acc: 0.5266 | val_loss: 0.54010 - val_acc: 1.0000 -- iter: 20/20\n",
      "--\n",
      "Training Step: 12  | total loss: 0.67800 | time: 1.048s\n",
      "| Adam | epoch: 012 | loss: 0.67800 - acc: 0.6046 | val_loss: 0.45006 - val_acc: 1.0000 -- iter: 20/20\n",
      "--\n",
      "Training Step: 13  | total loss: 0.66013 | time: 1.051s\n",
      "| Adam | epoch: 013 | loss: 0.66013 - acc: 0.6026 | val_loss: 0.43884 - val_acc: 1.0000 -- iter: 20/20\n",
      "--\n",
      "Training Step: 14  | total loss: 0.65294 | time: 1.054s\n",
      "| Adam | epoch: 014 | loss: 0.65294 - acc: 0.6016 | val_loss: 0.42699 - val_acc: 1.0000 -- iter: 20/20\n",
      "--\n",
      "Training Step: 15  | total loss: 0.62924 | time: 1.048s\n",
      "| Adam | epoch: 015 | loss: 0.62924 - acc: 0.6401 | val_loss: 0.22618 - val_acc: 1.0000 -- iter: 20/20\n",
      "--\n",
      "Training Step: 16  | total loss: 0.60164 | time: 1.057s\n",
      "| Adam | epoch: 016 | loss: 0.60164 - acc: 0.6813 | val_loss: 0.49352 - val_acc: 1.0000 -- iter: 20/20\n",
      "--\n",
      "Training Step: 17  | total loss: 0.73301 | time: 1.057s\n",
      "| Adam | epoch: 017 | loss: 0.73301 - acc: 0.5800 | val_loss: 0.33037 - val_acc: 1.0000 -- iter: 20/20\n",
      "--\n",
      "Training Step: 18  | total loss: 0.66059 | time: 1.064s\n",
      "| Adam | epoch: 018 | loss: 0.66059 - acc: 0.7081 | val_loss: 0.23575 - val_acc: 1.0000 -- iter: 20/20\n",
      "--\n",
      "Training Step: 19  | total loss: 0.59434 | time: 1.063s\n",
      "| Adam | epoch: 019 | loss: 0.59434 - acc: 0.7387 | val_loss: 0.51220 - val_acc: 0.6000 -- iter: 20/20\n",
      "--\n",
      "Training Step: 20  | total loss: 0.53850 | time: 1.072s\n",
      "| Adam | epoch: 020 | loss: 0.53850 - acc: 0.7745 | val_loss: 1.18103 - val_acc: 0.0000 -- iter: 20/20\n",
      "--\n",
      "Training Step: 21  | total loss: 0.66440 | time: 1.054s\n",
      "| Adam | epoch: 021 | loss: 0.66440 - acc: 0.6583 | val_loss: 0.80274 - val_acc: 0.4000 -- iter: 20/20\n",
      "--\n",
      "Training Step: 22  | total loss: 0.69696 | time: 1.044s\n",
      "| Adam | epoch: 022 | loss: 0.69696 - acc: 0.6108 | val_loss: 0.19920 - val_acc: 1.0000 -- iter: 20/20\n",
      "--\n",
      "Training Step: 23  | total loss: 0.66705 | time: 1.055s\n",
      "| Adam | epoch: 023 | loss: 0.66705 - acc: 0.6222 | val_loss: 0.06326 - val_acc: 1.0000 -- iter: 20/20\n",
      "--\n",
      "Training Step: 24  | total loss: 0.58346 | time: 1.054s\n",
      "| Adam | epoch: 024 | loss: 0.58346 - acc: 0.6863 | val_loss: 0.07047 - val_acc: 1.0000 -- iter: 20/20\n",
      "--\n",
      "Training Step: 25  | total loss: 0.56650 | time: 1.061s\n",
      "| Adam | epoch: 025 | loss: 0.56650 - acc: 0.6900 | val_loss: 0.23300 - val_acc: 1.0000 -- iter: 20/20\n",
      "--\n",
      "Training Step: 26  | total loss: 0.52513 | time: 1.065s\n",
      "| Adam | epoch: 026 | loss: 0.52513 - acc: 0.7059 | val_loss: 0.90734 - val_acc: 0.2000 -- iter: 20/20\n",
      "--\n",
      "Training Step: 27  | total loss: 0.59703 | time: 1.055s\n",
      "| Adam | epoch: 027 | loss: 0.59703 - acc: 0.6529 | val_loss: 1.01270 - val_acc: 0.0000 -- iter: 20/20\n",
      "--\n",
      "Training Step: 28  | total loss: 0.64385 | time: 1.073s\n",
      "| Adam | epoch: 028 | loss: 0.64385 - acc: 0.6022 | val_loss: 0.84641 - val_acc: 0.2000 -- iter: 20/20\n",
      "--\n",
      "Training Step: 29  | total loss: 0.66744 | time: 1.075s\n",
      "| Adam | epoch: 029 | loss: 0.66744 - acc: 0.5652 | val_loss: 0.63150 - val_acc: 0.6000 -- iter: 20/20\n",
      "--\n",
      "Training Step: 30  | total loss: 0.67179 | time: 1.070s\n",
      "| Adam | epoch: 030 | loss: 0.67179 - acc: 0.5497 | val_loss: 0.41403 - val_acc: 1.0000 -- iter: 20/20\n",
      "--\n",
      "Training Step: 31  | total loss: 0.65264 | time: 1.064s\n",
      "| Adam | epoch: 031 | loss: 0.65264 - acc: 0.6075 | val_loss: 0.25767 - val_acc: 1.0000 -- iter: 20/20\n",
      "--\n",
      "Training Step: 32  | total loss: 0.62370 | time: 1.046s\n",
      "| Adam | epoch: 032 | loss: 0.62370 - acc: 0.6621 | val_loss: 0.17426 - val_acc: 1.0000 -- iter: 20/20\n",
      "--\n",
      "Training Step: 33  | total loss: 0.59983 | time: 1.064s\n",
      "| Adam | epoch: 033 | loss: 0.59983 - acc: 0.6375 | val_loss: 0.15922 - val_acc: 1.0000 -- iter: 20/20\n",
      "--\n",
      "Training Step: 34  | total loss: 0.58095 | time: 1.056s\n",
      "| Adam | epoch: 034 | loss: 0.58095 - acc: 0.6187 | val_loss: 0.18966 - val_acc: 1.0000 -- iter: 20/20\n",
      "--\n",
      "Training Step: 35  | total loss: 0.55474 | time: 1.064s\n",
      "| Adam | epoch: 035 | loss: 0.55474 - acc: 0.6253 | val_loss: 0.22440 - val_acc: 1.0000 -- iter: 20/20\n",
      "--\n",
      "Training Step: 36  | total loss: 0.52148 | time: 1.065s\n",
      "| Adam | epoch: 036 | loss: 0.52148 - acc: 0.6712 | val_loss: 0.18462 - val_acc: 1.0000 -- iter: 20/20\n",
      "--\n",
      "Training Step: 37  | total loss: 0.48356 | time: 1.062s\n",
      "| Adam | epoch: 037 | loss: 0.48356 - acc: 0.7370 | val_loss: 0.10189 - val_acc: 1.0000 -- iter: 20/20\n",
      "--\n",
      "Training Step: 38  | total loss: 0.44168 | time: 1.074s\n",
      "| Adam | epoch: 038 | loss: 0.44168 - acc: 0.7884 | val_loss: 0.06994 - val_acc: 1.0000 -- iter: 20/20\n",
      "--\n",
      "Training Step: 39  | total loss: 0.39784 | time: 1.074s\n",
      "| Adam | epoch: 039 | loss: 0.39784 - acc: 0.8194 | val_loss: 0.09800 - val_acc: 1.0000 -- iter: 20/20\n",
      "--\n",
      "Training Step: 40  | total loss: 0.35136 | time: 1.052s\n",
      "| Adam | epoch: 040 | loss: 0.35136 - acc: 0.8532 | val_loss: 0.07693 - val_acc: 1.0000 -- iter: 20/20\n",
      "--\n",
      "Training Step: 41  | total loss: 0.30202 | time: 1.076s\n",
      "| Adam | epoch: 041 | loss: 0.30202 - acc: 0.8802 | val_loss: 0.24847 - val_acc: 0.8000 -- iter: 20/20\n",
      "--\n",
      "Training Step: 42  | total loss: 0.68616 | time: 1.055s\n",
      "| Adam | epoch: 042 | loss: 0.68616 - acc: 0.8118 | val_loss: 0.03533 - val_acc: 1.0000 -- iter: 20/20\n",
      "--\n",
      "Training Step: 43  | total loss: 0.58538 | time: 1.060s\n",
      "| Adam | epoch: 043 | loss: 0.58538 - acc: 0.8362 | val_loss: 0.04925 - val_acc: 1.0000 -- iter: 20/20\n",
      "--\n"
     ]
    }
   ],
   "source": [
    "model.fit({'input': X}, {'targets': Y}, n_epoch=43, validation_set=({'input': test_x}, {'targets': test_y}), \n",
    "    snapshot_step=500, show_metric=True, run_id=MODEL_NAME)"
   ]
  },
  {
   "cell_type": "code",
   "execution_count": 783,
   "metadata": {},
   "outputs": [],
   "source": [
    "#Training Step: 1148  | total loss: 0.46025 | time: 63.884s\n",
    "#| Adam | epoch: 003 | loss: 0.46025 - acc: 0.7903 -- iter: 24448/24500\n",
    "#Training Step: 1149  | total loss: 0.45743 | time: 65.061s\n",
    "#| Adam | epoch: 003 | loss: 0.45743 - acc: 0.7925 | val_loss: 0.50954 - val_acc: 0.7200 -- iter: 24500/24500\n",
    "#--"
   ]
  },
  {
   "cell_type": "code",
   "execution_count": 784,
   "metadata": {},
   "outputs": [],
   "source": [
    "#WELL WELL WELL... Looks like we've got a winner. With neural networks, size matters a ton. We went from having apparently \n",
    "# un-trainable data to having obviously trainable data, and this was only 3 epochs.\n",
    "\n",
    "#If you are happy with the model, go ahead and save it:"
   ]
  },
  {
   "cell_type": "code",
   "execution_count": 785,
   "metadata": {},
   "outputs": [
    {
     "name": "stdout",
     "output_type": "stream",
     "text": [
      "INFO:tensorflow:E:\\IIM\\TensorFlow\\warranty\\Bearings\\gudVSbad9-0.001-2conv-basic.model is not in all_model_checkpoint_paths. Manually adding it.\n"
     ]
    }
   ],
   "source": [
    "model.save(MODEL_NAME)"
   ]
  },
  {
   "cell_type": "code",
   "execution_count": 786,
   "metadata": {},
   "outputs": [],
   "source": [
    "# INFO:tensorflow:C:\\Users\\Eshwar\\dogsvscats-0.001-2conv-basic.model is not in all_model_checkpoint_paths. Manually adding it."
   ]
  },
  {
   "cell_type": "code",
   "execution_count": 787,
   "metadata": {},
   "outputs": [],
   "source": [
    "#Now we can reload the model, and continue training (we don't NEED to reload the model here since this is continuous \n",
    "# and the model is still in memory, but if you were running this as a program you would)"
   ]
  },
  {
   "cell_type": "code",
   "execution_count": 788,
   "metadata": {},
   "outputs": [],
   "source": [
    "import tensorflow as tf\n",
    "tf.reset_default_graph()"
   ]
  },
  {
   "cell_type": "code",
   "execution_count": 789,
   "metadata": {},
   "outputs": [],
   "source": [
    "convnet = input_data(shape=[None, IMG_SIZE, IMG_SIZE, 1], name='input')\n",
    "\n",
    "convnet = conv_2d(convnet, 32, 5, activation='relu')\n",
    "convnet = max_pool_2d(convnet, 5)\n",
    "\n",
    "convnet = conv_2d(convnet, 64, 5, activation='relu')\n",
    "convnet = max_pool_2d(convnet, 5)\n",
    "\n",
    "convnet = conv_2d(convnet, 128, 5, activation='relu')\n",
    "convnet = max_pool_2d(convnet, 5)\n",
    "\n",
    "convnet = conv_2d(convnet, 64, 5, activation='relu')\n",
    "convnet = max_pool_2d(convnet, 5)\n",
    "\n",
    "convnet = conv_2d(convnet, 32, 5, activation='relu')\n",
    "convnet = max_pool_2d(convnet, 5)\n",
    "\n",
    "convnet = fully_connected(convnet, 1024, activation='relu')\n",
    "convnet = dropout(convnet, 0.8)\n",
    "\n",
    "convnet = fully_connected(convnet, 2, activation='softmax')\n",
    "convnet = regression(convnet, optimizer='adam', learning_rate=LR, loss='categorical_crossentropy', name='targets')\n"
   ]
  },
  {
   "cell_type": "code",
   "execution_count": 790,
   "metadata": {},
   "outputs": [],
   "source": [
    "model = tflearn.DNN(convnet, tensorboard_dir='log')"
   ]
  },
  {
   "cell_type": "code",
   "execution_count": 791,
   "metadata": {},
   "outputs": [
    {
     "name": "stdout",
     "output_type": "stream",
     "text": [
      "---------------------------------\n",
      "Run id: gudVSbad9-0.001-2conv-basic.model\n",
      "Log directory: log/\n",
      "INFO:tensorflow:Summary name Accuracy/ (raw) is illegal; using Accuracy/__raw_ instead.\n",
      "---------------------------------\n",
      "Training samples: 20\n",
      "Validation samples: 5\n",
      "--\n",
      "Training Step: 1  | time: 1.463s\n",
      "| Adam | epoch: 001 | loss: 0.00000 - acc: 0.0000 | val_loss: 0.42677 - val_acc: 1.0000 -- iter: 20/20\n",
      "--\n",
      "Training Step: 2  | total loss: 0.61975 | time: 1.070s\n",
      "| Adam | epoch: 002 | loss: 0.61975 - acc: 0.5400 | val_loss: 0.61284 - val_acc: 1.0000 -- iter: 20/20\n",
      "--\n",
      "Training Step: 3  | total loss: 0.67860 | time: 1.064s\n",
      "| Adam | epoch: 003 | loss: 0.67860 - acc: 0.5482 | val_loss: 0.63047 - val_acc: 1.0000 -- iter: 20/20\n",
      "--\n",
      "Training Step: 4  | total loss: 0.68125 | time: 1.063s\n",
      "| Adam | epoch: 004 | loss: 0.68125 - acc: 0.5495 | val_loss: 0.58383 - val_acc: 1.0000 -- iter: 20/20\n",
      "--\n",
      "Training Step: 5  | total loss: 0.68481 | time: 1.066s\n",
      "| Adam | epoch: 005 | loss: 0.68481 - acc: 0.5499 | val_loss: 0.58178 - val_acc: 1.0000 -- iter: 20/20\n",
      "--\n",
      "Training Step: 6  | total loss: 0.69166 | time: 1.066s\n",
      "| Adam | epoch: 006 | loss: 0.69166 - acc: 0.5500 | val_loss: 0.54520 - val_acc: 1.0000 -- iter: 20/20\n",
      "--\n",
      "Training Step: 7  | total loss: 0.68110 | time: 1.057s\n",
      "| Adam | epoch: 007 | loss: 0.68110 - acc: 0.5500 | val_loss: 0.55674 - val_acc: 1.0000 -- iter: 20/20\n",
      "--\n",
      "Training Step: 8  | total loss: 0.67938 | time: 1.076s\n",
      "| Adam | epoch: 008 | loss: 0.67938 - acc: 0.5500 | val_loss: 0.43559 - val_acc: 1.0000 -- iter: 20/20\n",
      "--\n",
      "Training Step: 9  | total loss: 0.66191 | time: 1.062s\n",
      "| Adam | epoch: 009 | loss: 0.66191 - acc: 0.5765 | val_loss: 0.54857 - val_acc: 1.0000 -- iter: 20/20\n",
      "--\n",
      "Training Step: 10  | total loss: 0.67965 | time: 1.061s\n",
      "| Adam | epoch: 010 | loss: 0.67965 - acc: 0.5632 | val_loss: 0.45699 - val_acc: 1.0000 -- iter: 20/20\n",
      "--\n",
      "Training Step: 11  | total loss: 0.65371 | time: 1.067s\n",
      "| Adam | epoch: 011 | loss: 0.65371 - acc: 0.6517 | val_loss: 0.32102 - val_acc: 1.0000 -- iter: 20/20\n",
      "--\n",
      "Training Step: 12  | total loss: 0.62694 | time: 1.068s\n",
      "| Adam | epoch: 012 | loss: 0.62694 - acc: 0.6959 | val_loss: 0.52360 - val_acc: 0.8000 -- iter: 20/20\n",
      "--\n",
      "Training Step: 13  | total loss: 0.65519 | time: 1.074s\n",
      "| Adam | epoch: 013 | loss: 0.65519 - acc: 0.6334 | val_loss: 0.26013 - val_acc: 1.0000 -- iter: 20/20\n",
      "--\n",
      "Training Step: 14  | total loss: 0.60375 | time: 1.065s\n",
      "| Adam | epoch: 014 | loss: 0.60375 - acc: 0.7425 | val_loss: 0.28029 - val_acc: 1.0000 -- iter: 20/20\n",
      "--\n",
      "Training Step: 15  | total loss: 0.55612 | time: 1.069s\n",
      "| Adam | epoch: 015 | loss: 0.55612 - acc: 0.7454 | val_loss: 0.82627 - val_acc: 0.4000 -- iter: 20/20\n",
      "--\n",
      "Training Step: 16  | total loss: 0.71168 | time: 1.062s\n",
      "| Adam | epoch: 016 | loss: 0.71168 - acc: 0.5596 | val_loss: 0.76489 - val_acc: 0.4000 -- iter: 20/20\n",
      "--\n",
      "Training Step: 17  | total loss: 0.66843 | time: 1.059s\n",
      "| Adam | epoch: 017 | loss: 0.66843 - acc: 0.5922 | val_loss: 0.37587 - val_acc: 1.0000 -- iter: 20/20\n",
      "--\n",
      "Training Step: 18  | total loss: 0.69726 | time: 1.069s\n",
      "| Adam | epoch: 018 | loss: 0.69726 - acc: 0.5603 | val_loss: 0.12776 - val_acc: 1.0000 -- iter: 20/20\n",
      "--\n",
      "Training Step: 19  | total loss: 0.60470 | time: 1.074s\n",
      "| Adam | epoch: 019 | loss: 0.60470 - acc: 0.7068 | val_loss: 0.11876 - val_acc: 1.0000 -- iter: 20/20\n",
      "--\n",
      "Training Step: 20  | total loss: 0.67833 | time: 1.053s\n",
      "| Adam | epoch: 020 | loss: 0.67833 - acc: 0.6564 | val_loss: 0.18333 - val_acc: 1.0000 -- iter: 20/20\n",
      "--\n",
      "Training Step: 21  | total loss: 0.63703 | time: 1.080s\n",
      "| Adam | epoch: 021 | loss: 0.63703 - acc: 0.6389 | val_loss: 0.33824 - val_acc: 1.0000 -- iter: 20/20\n",
      "--\n",
      "Training Step: 22  | total loss: 0.57545 | time: 1.076s\n",
      "| Adam | epoch: 022 | loss: 0.57545 - acc: 0.6722 | val_loss: 0.40491 - val_acc: 1.0000 -- iter: 20/20\n",
      "--\n",
      "Training Step: 23  | total loss: 0.52986 | time: 1.077s\n",
      "| Adam | epoch: 023 | loss: 0.52986 - acc: 0.7674 | val_loss: 0.27210 - val_acc: 1.0000 -- iter: 20/20\n",
      "--\n",
      "Training Step: 24  | total loss: 0.50246 | time: 1.101s\n",
      "| Adam | epoch: 024 | loss: 0.50246 - acc: 0.8188 | val_loss: 0.11948 - val_acc: 1.0000 -- iter: 20/20\n",
      "--\n",
      "Training Step: 25  | total loss: 0.45897 | time: 1.076s\n",
      "| Adam | epoch: 025 | loss: 0.45897 - acc: 0.8682 | val_loss: 0.06542 - val_acc: 1.0000 -- iter: 20/20\n",
      "--\n",
      "Training Step: 26  | total loss: 0.41419 | time: 1.062s\n",
      "| Adam | epoch: 026 | loss: 0.41419 - acc: 0.8898 | val_loss: 0.05981 - val_acc: 1.0000 -- iter: 20/20\n",
      "--\n",
      "Training Step: 27  | total loss: 0.57691 | time: 1.081s\n",
      "| Adam | epoch: 027 | loss: 0.57691 - acc: 0.8025 | val_loss: 0.09081 - val_acc: 1.0000 -- iter: 20/20\n",
      "--\n",
      "Training Step: 28  | total loss: 0.72603 | time: 1.048s\n",
      "| Adam | epoch: 028 | loss: 0.72603 - acc: 0.7268 | val_loss: 0.18833 - val_acc: 1.0000 -- iter: 20/20\n",
      "--\n",
      "Training Step: 29  | total loss: 0.63275 | time: 1.066s\n",
      "| Adam | epoch: 029 | loss: 0.63275 - acc: 0.7446 | val_loss: 0.39864 - val_acc: 0.8000 -- iter: 20/20\n",
      "--\n",
      "Training Step: 30  | total loss: 0.54171 | time: 1.074s\n",
      "| Adam | epoch: 030 | loss: 0.54171 - acc: 0.8051 | val_loss: 0.74661 - val_acc: 0.4000 -- iter: 20/20\n",
      "--\n",
      "Training Step: 31  | total loss: 0.61526 | time: 1.066s\n",
      "| Adam | epoch: 031 | loss: 0.61526 - acc: 0.7462 | val_loss: 0.69392 - val_acc: 0.6000 -- iter: 20/20\n",
      "--\n",
      "Training Step: 32  | total loss: 0.62645 | time: 1.063s\n",
      "| Adam | epoch: 032 | loss: 0.62645 - acc: 0.7246 | val_loss: 0.45539 - val_acc: 0.8000 -- iter: 20/20\n",
      "--\n",
      "Training Step: 33  | total loss: 0.59581 | time: 1.056s\n",
      "| Adam | epoch: 033 | loss: 0.59581 - acc: 0.7411 | val_loss: 0.36580 - val_acc: 1.0000 -- iter: 20/20\n",
      "--\n",
      "Training Step: 34  | total loss: 0.66675 | time: 1.071s\n",
      "| Adam | epoch: 034 | loss: 0.66675 - acc: 0.6788 | val_loss: 0.29840 - val_acc: 1.0000 -- iter: 20/20\n",
      "--\n",
      "Training Step: 35  | total loss: 0.60247 | time: 1.060s\n",
      "| Adam | epoch: 035 | loss: 0.60247 - acc: 0.7460 | val_loss: 0.25432 - val_acc: 1.0000 -- iter: 20/20\n",
      "--\n",
      "Training Step: 36  | total loss: 0.56036 | time: 1.070s\n",
      "| Adam | epoch: 036 | loss: 0.56036 - acc: 0.7979 | val_loss: 0.23109 - val_acc: 1.0000 -- iter: 20/20\n",
      "--\n",
      "Training Step: 37  | total loss: 0.52958 | time: 1.069s\n",
      "| Adam | epoch: 037 | loss: 0.52958 - acc: 0.8184 | val_loss: 0.24616 - val_acc: 1.0000 -- iter: 20/20\n",
      "--\n",
      "Training Step: 38  | total loss: 0.59711 | time: 1.070s\n",
      "| Adam | epoch: 038 | loss: 0.59711 - acc: 0.7365 | val_loss: 0.26325 - val_acc: 1.0000 -- iter: 20/20\n",
      "--\n",
      "Training Step: 39  | total loss: 0.55375 | time: 1.058s\n",
      "| Adam | epoch: 039 | loss: 0.55375 - acc: 0.7870 | val_loss: 0.33677 - val_acc: 1.0000 -- iter: 20/20\n",
      "--\n",
      "Training Step: 40  | total loss: 0.61209 | time: 1.077s\n",
      "| Adam | epoch: 040 | loss: 0.61209 - acc: 0.7332 | val_loss: 0.37452 - val_acc: 1.0000 -- iter: 20/20\n",
      "--\n",
      "Training Step: 41  | total loss: 0.56745 | time: 1.079s\n",
      "| Adam | epoch: 041 | loss: 0.56745 - acc: 0.7822 | val_loss: 0.36050 - val_acc: 1.0000 -- iter: 20/20\n",
      "--\n",
      "Training Step: 42  | total loss: 0.53374 | time: 1.052s\n",
      "| Adam | epoch: 042 | loss: 0.53374 - acc: 0.8214 | val_loss: 0.29414 - val_acc: 1.0000 -- iter: 20/20\n",
      "--\n",
      "Training Step: 43  | total loss: 0.50451 | time: 1.073s\n",
      "| Adam | epoch: 043 | loss: 0.50451 - acc: 0.8529 | val_loss: 0.20560 - val_acc: 1.0000 -- iter: 20/20\n",
      "--\n",
      "Training Step: 44  | total loss: 0.47148 | time: 1.066s\n",
      "| Adam | epoch: 044 | loss: 0.47148 - acc: 0.8784 | val_loss: 0.12629 - val_acc: 1.0000 -- iter: 20/20\n",
      "--\n",
      "Training Step: 45  | total loss: 0.43389 | time: 1.066s\n",
      "| Adam | epoch: 045 | loss: 0.43389 - acc: 0.8990 | val_loss: 0.11922 - val_acc: 1.0000 -- iter: 20/20\n",
      "--\n",
      "Training Step: 46  | total loss: 0.49793 | time: 1.068s\n",
      "| Adam | epoch: 046 | loss: 0.49793 - acc: 0.8492 | val_loss: 0.11979 - val_acc: 1.0000 -- iter: 20/20\n",
      "--\n",
      "Training Step: 47  | total loss: 0.44379 | time: 1.062s\n",
      "| Adam | epoch: 047 | loss: 0.44379 - acc: 0.8739 | val_loss: 0.15881 - val_acc: 1.0000 -- iter: 20/20\n",
      "--\n",
      "Training Step: 48  | total loss: 0.47403 | time: 1.047s\n",
      "| Adam | epoch: 048 | loss: 0.47403 - acc: 0.8620 | val_loss: 0.15813 - val_acc: 1.0000 -- iter: 20/20\n",
      "--\n",
      "Training Step: 49  | total loss: 0.42033 | time: 1.112s\n",
      "| Adam | epoch: 049 | loss: 0.42033 - acc: 0.8838 | val_loss: 0.10554 - val_acc: 1.0000 -- iter: 20/20\n",
      "--\n"
     ]
    },
    {
     "name": "stdout",
     "output_type": "stream",
     "text": [
      "Training Step: 50  | total loss: 0.37303 | time: 1.075s\n",
      "| Adam | epoch: 050 | loss: 0.37303 - acc: 0.9018 | val_loss: 0.05655 - val_acc: 1.0000 -- iter: 20/20\n",
      "--\n"
     ]
    }
   ],
   "source": [
    "if os.path.exists('C:/Users/Eshwar/{}.meta'.format(MODEL_NAME)):\n",
    "    model.load(MODEL_NAME)\n",
    "    print('model loaded!')\n",
    "\n",
    "train = train_data[:-1]\n",
    "test = train_data[-5:]\n",
    "\n",
    "X = np.array([i[0] for i in train]).reshape(-1,IMG_SIZE,IMG_SIZE,1)\n",
    "Y = [i[1] for i in train]\n",
    "\n",
    "test_x = np.array([i[0] for i in test]).reshape(-1,IMG_SIZE,IMG_SIZE,1)\n",
    "test_y = [i[1] for i in test]\n",
    "\n",
    "model.fit({'input': X}, {'targets': Y}, n_epoch=50, validation_set=({'input': test_x}, {'targets': test_y}), \n",
    "    snapshot_step=500, show_metric=True, run_id=MODEL_NAME)"
   ]
  },
  {
   "cell_type": "code",
   "execution_count": 792,
   "metadata": {},
   "outputs": [],
   "source": [
    "#Training Step: 4978  | total loss: 0.21391 | time: 59.366s\n",
    "#| Adam | epoch: 010 | loss: 0.21391 - acc: 0.9139 -- iter: 24448/24500\n",
    "#Training Step: 4979  | total loss: 0.20713 | time: 60.525s\n",
    "#| Adam | epoch: 010 | loss: 0.20713 - acc: 0.9147 | val_loss: 0.62615 - val_acc: 0.7920 -- iter: 24500/24500\n",
    "#--"
   ]
  },
  {
   "cell_type": "code",
   "execution_count": 793,
   "metadata": {},
   "outputs": [],
   "source": [
    "# You can be too big.\n",
    "#Bigger is not always better, there does get to be a limit, at least from my experience.\n",
    "# A bigger network figures things out better, and quicker, but tends to also overfit the training data. \n",
    "# You can use dropout (sets randomly a certain % of nodes to not take part in the network for more robusts networks)\n",
    "# to rectify this slightly, but there does seem to be a limit.\n",
    "\n",
    "# Okay, now what? Let's see how we've done!"
   ]
  },
  {
   "cell_type": "code",
   "execution_count": 794,
   "metadata": {},
   "outputs": [],
   "source": [
    "# Visually inspecting our network against unlabeled data"
   ]
  },
  {
   "cell_type": "code",
   "execution_count": 795,
   "metadata": {},
   "outputs": [
    {
     "name": "stderr",
     "output_type": "stream",
     "text": [
      "100%|██████████| 5/5 [00:00<00:00, 89.49it/s]\n"
     ]
    },
    {
     "data": {
      "image/png": "[encoded data removed]",
      "text/plain": [
       "<Figure size 432x288 with 5 Axes>"
      ]
     },
     "metadata": {
      "needs_background": "light"
     },
     "output_type": "display_data"
    }
   ],
   "source": [
    "import matplotlib.pyplot as plt\n",
    "\n",
    "# if you need to create the data:\n",
    "test_data = process_test_data()\n",
    "# if you already have some saved: Yes, saved in below fplder\n",
    "#test_data = np.load('C:/User/Eshwar/test_data.npy')\n",
    "\n",
    "fig=plt.figure()\n",
    "\n",
    "for num,data in enumerate(test_data[:12]):\n",
    "    # gud: [1,0]\n",
    "    # bad: [0,1]\n",
    "    \n",
    "    img_num = data[1]\n",
    "    img_data = data[0]\n",
    "    \n",
    "    y = fig.add_subplot(3,5,num+1)\n",
    "    orig = img_data\n",
    "    data = img_data.reshape(IMG_SIZE,IMG_SIZE,1)\n",
    "    #model_out = model.predict([data])[0]\n",
    "    model_out = model.predict([data])[0]\n",
    "    \n",
    "    if np.argmax(model_out) == 1: str_label='bad'\n",
    "    else: str_label='gud'\n",
    "        \n",
    "    y.imshow(orig,cmap='gray')\n",
    "    plt.title(str_label)\n",
    "    y.axes.get_xaxis().set_visible(False)\n",
    "    y.axes.get_yaxis().set_visible(False)\n",
    "plt.show()"
   ]
  },
  {
   "cell_type": "markdown",
   "metadata": {},
   "source": [
    "Alright, so we made a couple of mistakes, but not too bad actually!\n",
    "\n",
    "If you're happy with it, let's compete!"
   ]
  },
  {
   "cell_type": "code",
   "execution_count": 796,
   "metadata": {},
   "outputs": [
    {
     "name": "stderr",
     "output_type": "stream",
     "text": [
      "100%|██████████| 5/5 [00:00<00:00, 296.47it/s]\n"
     ]
    }
   ],
   "source": [
    "with open('gudVsbadsubmission_file.csv','w') as f:\n",
    "    f.write('id,label\\n')\n",
    "            \n",
    "with open('gudVsbadsubmission_file.csv','a') as f:\n",
    "    for data in tqdm(test_data):\n",
    "        img_num = data[1]\n",
    "        img_data = data[0]\n",
    "        orig = img_data\n",
    "        data = img_data.reshape(IMG_SIZE,IMG_SIZE,1)\n",
    "        model_out = model.predict([data])[0]\n",
    "        f.write('{},{}\\n'.format(img_num,model_out[1]))"
   ]
  },
  {
   "cell_type": "code",
   "execution_count": 797,
   "metadata": {},
   "outputs": [],
   "source": [
    "#100%|██████████| 8/8 [00:00<00:00, 306.44it/s]"
   ]
  },
  {
   "cell_type": "code",
   "execution_count": 798,
   "metadata": {},
   "outputs": [],
   "source": [
    "#THE END"
   ]
  },
  {
   "cell_type": "code",
   "execution_count": 799,
   "metadata": {},
   "outputs": [
    {
     "data": {
      "text/plain": [
       "'E:\\\\IIM\\\\TensorFlow\\\\warranty\\\\Bearings'"
      ]
     },
     "execution_count": 799,
     "metadata": {},
     "output_type": "execute_result"
    }
   ],
   "source": [
    "import os\n",
    "cwd = os.getcwd()\n",
    "cwd"
   ]
  },
  {
   "cell_type": "code",
   "execution_count": null,
   "metadata": {},
   "outputs": [],
   "source": []
  }
 ],
 "metadata": {
  "kernelspec": {
   "display_name": "Python 3",
   "language": "python",
   "name": "python3"
  },
  "language_info": {
   "codemirror_mode": {
    "name": "ipython",
    "version": 3
   },
   "file_extension": ".py",
   "mimetype": "text/x-python",
   "name": "python",
   "nbconvert_exporter": "python",
   "pygments_lexer": "ipython3",
   "version": "3.7.3"
  }
 },
 "nbformat": 4,
 "nbformat_minor": 2
}
