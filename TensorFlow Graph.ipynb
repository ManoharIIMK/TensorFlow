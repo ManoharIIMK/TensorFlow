{
 "cells": [
  {
   "cell_type": "code",
   "execution_count": 1,
   "metadata": {},
   "outputs": [
    {
     "name": "stdout",
     "output_type": "stream",
     "text": [
      "Square of a:  42.25\n",
      "Power of b ^ c:  39.304005\n",
      "Square root of d:  10.0099945\n",
      "Sum of square, power and square root  91.563995\n"
     ]
    }
   ],
   "source": [
    "import tensorflow as tf\n",
    "\n",
    "a = tf.constant(6.5, name='constant_a')\n",
    "\n",
    "b = tf.constant(3.4, name='constant_b')\n",
    "c = tf.constant(3.0, name='constant_c')\n",
    "\n",
    "d = tf.constant(100.2, name='constant_d')\n",
    "\n",
    "square = tf.square(a, name=\"square_a\")\n",
    "power = tf.pow(b, c, name=\"pow_b_c\")\n",
    "sqrt = tf.sqrt(d, name=\"sqrt_d\")\n",
    "\n",
    "final_sum = tf.add_n([square, power, sqrt], name=\"final_sum\")\n",
    "\n",
    "sess = tf.Session()\n",
    "\n",
    "print ('Square of a: ', sess.run(square))\n",
    "print (\"Power of b ^ c: \", sess.run(power))\n",
    "print (\"Square root of d: \", sess.run(sqrt))\n",
    "\n",
    "print (\"Sum of square, power and square root \", sess.run(final_sum))\n",
    "\n",
    "another_sum = tf.add_n([a, b, c, d, power], name=\"another_sum\")\n",
    "\n",
    "\n",
    "writer = tf.summary.FileWriter('./m2_example2', sess.graph)\n",
    "writer.close()\n",
    "sess.close()\n"
   ]
  },
  {
   "cell_type": "code",
   "execution_count": null,
   "metadata": {},
   "outputs": [],
   "source": []
  }
 ],
 "metadata": {
  "kernelspec": {
   "display_name": "Python 3",
   "language": "python",
   "name": "python3"
  },
  "language_info": {
   "codemirror_mode": {
    "name": "ipython",
    "version": 3
   },
   "file_extension": ".py",
   "mimetype": "text/x-python",
   "name": "python",
   "nbconvert_exporter": "python",
   "pygments_lexer": "ipython3",
   "version": "3.7.3"
  }
 },
 "nbformat": 4,
 "nbformat_minor": 2
}
